{
 "cells": [
  {
   "cell_type": "markdown",
   "id": "389d4432",
   "metadata": {},
   "source": [
    "**Purpose**: To perform all the formal statistical tests and generate the final Word document report."
   ]
  },
  {
   "cell_type": "markdown",
   "id": "43071fc8",
   "metadata": {},
   "source": [
    "# Step 1. Importing Libraries"
   ]
  },
  {
   "cell_type": "code",
   "execution_count": 1,
   "id": "f04cb852",
   "metadata": {},
   "outputs": [
    {
     "name": "stdout",
     "output_type": "stream",
     "text": [
      "Libraries imported successfully.\n"
     ]
    }
   ],
   "source": [
    "import pandas as pd\n",
    "import numpy as np\n",
    "from scipy import stats\n",
    "import pingouin as pg\n",
    "from docx import Document\n",
    "import datetime\n",
    "\n",
    "print(\"Libraries imported successfully.\")"
   ]
  },
  {
   "cell_type": "markdown",
   "id": "38ae6e21",
   "metadata": {},
   "source": [
    "# Step 2. Loading Data"
   ]
  },
  {
   "cell_type": "code",
   "execution_count": 2,
   "id": "84b742f1",
   "metadata": {},
   "outputs": [
    {
     "name": "stdout",
     "output_type": "stream",
     "text": [
      "Data loaded successfully.\n"
     ]
    }
   ],
   "source": [
    "# Loading the cleaned, merged data for most analyses\n",
    "df_final = pd.read_csv('../data/processed_data/cleaned_hpv_data.csv')\n",
    "\n",
    "# Loading the raw sheets ONLY for Cronbach's Alpha, which needs the individual question columns\n",
    "df_pre_full = pd.read_excel('../data/processed_data/summary_data.xlsx', sheet_name='pretest')\n",
    "df_post_full = pd.read_excel('../data/processed_data/summary_data.xlsx', sheet_name='post_test')\n",
    "print(\"Data loaded successfully.\")"
   ]
  },
  {
   "cell_type": "code",
   "execution_count": 3,
   "id": "256ec03d",
   "metadata": {},
   "outputs": [
    {
     "name": "stdout",
     "output_type": "stream",
     "text": [
      "Data and mappings loaded successfully.\n"
     ]
    }
   ],
   "source": [
    "# Define mappings needed for the report generation\n",
    "demographic_cols_map = {\n",
    "    1: 'Age', 2: 'Gender', 3: 'Place_of_Residency', 4: 'Education',\n",
    "    5: 'Vaccination_Status', 6: 'Health_Care_Access', 7: 'Occupation_of_Parents',\n",
    "    8: 'Family_Income_per_Month'\n",
    "}\n",
    "demographic_maps = {\n",
    "    'Age': {0: '15-19 Years', 1: '19-24 Years', 2: '24 Years and above'},\n",
    "    'Gender': {0: 'Female', 1: 'Male'},\n",
    "    'Place_of_Residency': {0: 'Rural', 1: 'Semi-Urban', 2: 'Urban'},\n",
    "    'Education': {0: 'High school', 1: 'Under graduation', 2: 'Post-graduation'},\n",
    "    'Vaccination_Status': {0: 'Irregularly vaccinated', 1: 'Regularly vaccinated', 2: 'Not vaccinated'},\n",
    "    'Health_Care_Access': {0: 'Easily accessible', 1: 'Not accessible', 2: 'Not interested'},\n",
    "    'Occupation_of_Parents': {0: 'Professional', 1: 'Retired', 2: 'Skilled', 3: 'Unemployed'},\n",
    "    'Family_Income_per_Month': {\n",
    "        0: 'Below ₹14,997', 1: '₹14,977 - ₹22,494', 2: '₹22,495 - ₹37,492',\n",
    "        3: '₹37,493 - ₹74,999', 4: '₹75,000 and above'\n",
    "    }\n",
    "}\n",
    "print(\"Data and mappings loaded successfully.\")"
   ]
  },
  {
   "cell_type": "markdown",
   "id": "e3323abe",
   "metadata": {},
   "source": [
    "# Step 3. Performing Statistical Analyses"
   ]
  },
  {
   "cell_type": "code",
   "execution_count": 4,
   "id": "3dc84058",
   "metadata": {},
   "outputs": [],
   "source": [
    "# 3.1. Reliability Analysis (Cronbach's Alpha)\n",
    "question_cols = [int(i) for i in range(1, 34)]\n",
    "alpha_pre = pg.cronbach_alpha(data=df_pre_full[question_cols])[0]\n",
    "alpha_post = pg.cronbach_alpha(data=df_post_full[question_cols])[0]"
   ]
  },
  {
   "cell_type": "code",
   "execution_count": 5,
   "id": "9248f94e",
   "metadata": {},
   "outputs": [],
   "source": [
    "# 3.2. Paired T-test for Intervention Effectiveness\n",
    "pre_mean, pre_std = df_final['pre_test_score'].mean(), df_final['pre_test_score'].std()\n",
    "post_mean, post_std = df_final['post_test_score'].mean(), df_final['post_test_score'].std()\n",
    "t_stat_paired, p_val_paired = stats.ttest_rel(df_final['post_test_score'], df_final['pre_test_score'])"
   ]
  },
  {
   "cell_type": "code",
   "execution_count": 6,
   "id": "72b70092",
   "metadata": {},
   "outputs": [
    {
     "name": "stdout",
     "output_type": "stream",
     "text": [
      "All statistical analyses complete.\n"
     ]
    }
   ],
   "source": [
    "# 3.3. Association with Baseline Variables (t-test/ANOVA)\n",
    "assoc_table_data = []\n",
    "for col in demographic_cols_map.values():\n",
    "    groups_pre = [df_final['pre_test_score'][df_final[col] == g] for g in sorted(df_final[col].unique()) if len(df_final[df_final[col] == g]) > 1]\n",
    "    groups_post = [df_final['post_test_score'][df_final[col] == g] for g in sorted(df_final[col].unique()) if len(df_final[df_final[col] == g]) > 1]\n",
    "    \n",
    "    test_type, p_pre, p_post = \"N/A\", np.nan, np.nan\n",
    "    \n",
    "    if len(groups_pre) >= 2:\n",
    "        test_type = \"t-test\" if len(groups_pre) == 2 else \"ANOVA\"\n",
    "        p_pre = stats.ttest_ind(*groups_pre)[1] if len(groups_pre) == 2 else stats.f_oneway(*groups_pre)[1]\n",
    "        p_post = stats.ttest_ind(*groups_post)[1] if len(groups_pre) == 2 else stats.f_oneway(*groups_post)[1]\n",
    "\n",
    "    for group_val in sorted(df_final[col].unique()):\n",
    "        subset = df_final[df_final[col] == group_val]\n",
    "        assoc_table_data.append([\n",
    "            col.replace('_', ' '),\n",
    "            demographic_maps[col].get(group_val, group_val),\n",
    "            f\"{subset['pre_test_score'].mean():.2f}\",\n",
    "            f\"{subset['post_test_score'].mean():.2f}\",\n",
    "            test_type,\n",
    "            f\"{p_pre:.3f}{' **' if p_pre < 0.05 else ' ns'}\" if not np.isnan(p_pre) else \"N/A\",\n",
    "            f\"{p_post:.3f}{' **' if p_post < 0.05 else ' ns'}\" if not np.isnan(p_post) else \"N/A\"\n",
    "        ])\n",
    "\n",
    "df_assoc_final = pd.DataFrame(assoc_table_data, columns=[\"Baseline Variable\", \"Category\", \"Pre-test Mean\", \"Post-test Mean\", \"Test\", \"p-value (Pre)\", \"p-value (Post)\"])\n",
    "\n",
    "print(\"All statistical analyses complete.\")"
   ]
  },
  {
   "cell_type": "markdown",
   "id": "50a45fdf",
   "metadata": {},
   "source": [
    "# Step 4. Generating Comprehensive Word Document Report"
   ]
  },
  {
   "cell_type": "code",
   "execution_count": 7,
   "id": "6026fc8d",
   "metadata": {},
   "outputs": [],
   "source": [
    "doc = Document()\n",
    "doc.add_heading('Statistical Analysis Report: HPV Awareness Study (N=58)', level=1)\n",
    "doc.add_paragraph(f\"Report generated on: {datetime.date.today().strftime('%B %d, %Y')}\")\n",
    "\n",
    "# Helper function to add a pandas DataFrame to the Word document\n",
    "def add_df_to_doc(document, df, title=\"\"):\n",
    "    if title:\n",
    "        document.add_heading(title, level=2)\n",
    "    t = document.add_table(df.shape[0] + 1, df.shape[1])\n",
    "    t.style = 'Table Grid'\n",
    "    for j, col_name in enumerate(df.columns):\n",
    "        t.cell(0, j).text = str(col_name)\n",
    "    for i, row in enumerate(df.itertuples(index=False)):\n",
    "        for j, cell in enumerate(row):\n",
    "            t.cell(i + 1, j).text = str(cell)\n",
    "    document.add_paragraph()"
   ]
  },
  {
   "cell_type": "markdown",
   "id": "ebdb5839",
   "metadata": {},
   "source": [
    "## Section 1: Demographic Profile"
   ]
  },
  {
   "cell_type": "code",
   "execution_count": 8,
   "id": "d4ea8a6d",
   "metadata": {},
   "outputs": [],
   "source": [
    "demo_summary_data = []\n",
    "for column in demographic_maps.keys():\n",
    "    labels = df_final[column].map(demographic_maps[column])\n",
    "    freq = labels.value_counts().sort_index()\n",
    "    perc = labels.value_counts(normalize=True).sort_index() * 100\n",
    "    for category, n in freq.items():\n",
    "        p = perc[category]\n",
    "        demo_summary_data.append([column.replace('_', ' '), category, n, f\"{p:.1f}%\"])\n",
    "df_demo_summary = pd.DataFrame(demo_summary_data, columns=[\"Variable\", \"Category\", \"Frequency (n)\", \"Percentage (%)\"])\n",
    "add_df_to_doc(doc, df_demo_summary, \"Table 1: Frequency and Percentage of Demographic Variables\")"
   ]
  },
  {
   "cell_type": "markdown",
   "id": "936188f8",
   "metadata": {},
   "source": [
    "## Section 2: Reliability and Intervention Effectiveness"
   ]
  },
  {
   "cell_type": "code",
   "execution_count": 9,
   "id": "92f6be8d",
   "metadata": {},
   "outputs": [
    {
     "data": {
      "text/plain": [
       "<docx.text.paragraph.Paragraph at 0x7f327bcb0bd0>"
      ]
     },
     "execution_count": 9,
     "metadata": {},
     "output_type": "execute_result"
    }
   ],
   "source": [
    "doc.add_heading('Table 2: Reliability of the Test and Intervention Effectiveness', level=2)\n",
    "doc.add_paragraph(f\"The HPV Knowledge Scale showed high internal consistency both before the intervention (Cronbach's α = {alpha_pre:.2f}) and after (Cronbach's α = {alpha_post:.2f}), confirming it is a reliable tool.\")\n",
    "paired_data = pd.DataFrame({\n",
    "    \"Test\": [\"Pre-test\", \"Post-test\"],\n",
    "    \"Mean Score\": [f\"{pre_mean:.2f}\", f\"{post_mean:.2f}\"],\n",
    "    \"Standard Deviation\": [f\"{pre_std:.2f}\", f\"{post_std:.2f}\"]\n",
    "})\n",
    "add_df_to_doc(doc, paired_data)\n",
    "doc.add_paragraph(f\"A Paired Samples t-test revealed that the increase in scores from pre-test to post-test was highly significant (t-statistic = {t_stat_paired:.2f}, p-value < 0.001).\")"
   ]
  },
  {
   "cell_type": "markdown",
   "id": "d9e13461",
   "metadata": {},
   "source": [
    "## Section 3: Association with Baseline Variables"
   ]
  },
  {
   "cell_type": "code",
   "execution_count": 10,
   "id": "31689727",
   "metadata": {},
   "outputs": [
    {
     "data": {
      "text/plain": [
       "<docx.text.paragraph.Paragraph at 0x7f327bc730d0>"
      ]
     },
     "execution_count": 10,
     "metadata": {},
     "output_type": "execute_result"
    }
   ],
   "source": [
    "add_df_to_doc(doc, df_assoc_final, \"Table 3: Association Between Awareness Levels and Baseline Variables\")\n",
    "doc.add_paragraph(\"*Note: The p-value is for the entire variable group. 'ns' denotes non-significant (p >= 0.05), '**' denotes significant (p < 0.05).*\")"
   ]
  },
  {
   "cell_type": "markdown",
   "id": "8d26d3f7",
   "metadata": {},
   "source": [
    "# Last Step: Save the Document "
   ]
  },
  {
   "cell_type": "code",
   "execution_count": 11,
   "id": "aa86c7da",
   "metadata": {},
   "outputs": [
    {
     "name": "stdout",
     "output_type": "stream",
     "text": [
      "\n",
      " Report generation complete. Saved as '../reports/Final_Statistical_Report.docx' 📄\n"
     ]
    }
   ],
   "source": [
    "file_name = '../reports/Final_Statistical_Report.docx'\n",
    "doc.save(file_name)\n",
    "\n",
    "print(f\"\\n Report generation complete. Saved as '{file_name}' 📄\")"
   ]
  }
 ],
 "metadata": {
  "kernelspec": {
   "display_name": "venv",
   "language": "python",
   "name": "python3"
  },
  "language_info": {
   "codemirror_mode": {
    "name": "ipython",
    "version": 3
   },
   "file_extension": ".py",
   "mimetype": "text/x-python",
   "name": "python",
   "nbconvert_exporter": "python",
   "pygments_lexer": "ipython3",
   "version": "3.11.2"
  }
 },
 "nbformat": 4,
 "nbformat_minor": 5
}
