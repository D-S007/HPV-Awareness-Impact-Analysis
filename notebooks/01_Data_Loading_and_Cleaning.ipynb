{
 "cells": [
  {
   "cell_type": "markdown",
   "id": "88181d1a",
   "metadata": {},
   "source": [
    "# Section 1 : Data Ingestion and Sqlite setup"
   ]
  },
  {
   "cell_type": "code",
   "execution_count": 73,
   "id": "4719f123",
   "metadata": {},
   "outputs": [],
   "source": [
    "import os\n",
    "import sqlite3\n",
    "import pandas as pd\n",
    "from sqlalchemy import create_engine\n",
    "\n",
    "\n",
    "# Path to our DB\n",
    "db_path = \"/home/Davcote/Desktop/HPV-Awareness-Impact-Analysis/data/database/HPV.db\"\n",
    "engine = create_engine(f\"sqlite:///{db_path}\")\n",
    "\n",
    "# Connect\n",
    "conn = sqlite3.connect(db_path)\n",
    "\n",
    "def run_sql(query):\n",
    "    \"\"\"Run SQL query and return results as a pandas DataFrame\"\"\"\n",
    "    return pd.read_sql_query(query, conn)\n",
    "\n",
    "def insert_processed(df: pd.DataFrame, name: str, engine=engine):\n",
    "    \"\"\"\n",
    "    Inserts a processed DataFrame into the database.\n",
    "    \n",
    "    Parameters:\n",
    "    - df (pd.DataFrame): The DataFrame to insert\n",
    "    - name (str): The table name (will be prefixed with 'processed_')\n",
    "    - engine: SQLAlchemy engine (default = HPV.db engine)\n",
    "\n",
    "    Usage : insert_processed(df_name, \"Name_of_table_you_want_to_create\")\n",
    "    \"\"\"\n",
    "    table_name = f\"processed_{name}\"\n",
    "    try:\n",
    "        df.to_sql(table_name, con=engine, if_exists=\"replace\", index=False)\n",
    "        print(f\"✅ Inserted into table: {table_name} ({len(df)} rows)\")\n",
    "    except Exception as e:\n",
    "        print(f\"❌ Error inserting {table_name}: {e}\")\n",
    "\n",
    "\n",
    "\n",
    "def insert_file_to_db(file_path: str, engine=engine):\n",
    "    \"\"\"\n",
    "    Inserts a CSV or Excel file into the SQLite DB.\n",
    "    If the table exists, it will be replaced.\n",
    "\n",
    "    Parameters:\n",
    "    - file_path (str): Path to the file (.csv, .xls, .xlsx)\n",
    "    - engine: SQLAlchemy engine\n",
    "\n",
    "    Usage : insert_file_to_db(\"/fullpath/to/your/file.csv or xlsx or xls\")\n",
    "    \"\"\"\n",
    "    try:\n",
    "        if not os.path.exists(file_path):\n",
    "            print(f\"❌ File not found: {file_path}\")\n",
    "            return\n",
    "\n",
    "        # Derive table name from filename\n",
    "        table_name = os.path.splitext(os.path.basename(file_path))[0]\n",
    "\n",
    "        # Load file\n",
    "        if file_path.lower().endswith(\".csv\"):\n",
    "            df = pd.read_csv(file_path)\n",
    "            df.to_sql(table_name, con=engine, if_exists=\"replace\", index=False)\n",
    "            print(f\"✅ Inserted CSV into table: {table_name} ({len(df)} rows)\")\n",
    "\n",
    "        elif file_path.lower().endswith((\".xls\", \".xlsx\")):\n",
    "            xls = pd.read_excel(file_path, sheet_name=None)  # dict of DataFrames\n",
    "            for sheet_name, df in xls.items():\n",
    "                sheet_table = f\"{table_name}_{sheet_name}\"\n",
    "                df.to_sql(sheet_table, con=engine, if_exists=\"replace\", index=False)\n",
    "                print(f\"✅ Inserted Excel sheet '{sheet_name}' into table: {sheet_table} ({len(df)} rows)\")\n",
    "        else:\n",
    "            print(f\"❌ Unsupported file type: {file_path}\")\n",
    "\n",
    "    except Exception as e:\n",
    "        print(f\"❌ Error inserting {file_path}: {e}\")\n",
    "\n"
   ]
  },
  {
   "cell_type": "markdown",
   "id": "2f07b282",
   "metadata": {},
   "source": [
    "Replacing raw `summary_data.xlsx` dataset with processed `summary_data.xlsx` dataset, because\n",
    "- raw summary_data sheets contained \"comments\" with column names, so we removed them using Excel\n",
    "- there were `spaces` with names of sheets, so we manually removed them using Excel"
   ]
  },
  {
   "cell_type": "code",
   "execution_count": 74,
   "id": "4ee8699a",
   "metadata": {},
   "outputs": [
    {
     "name": "stdout",
     "output_type": "stream",
     "text": [
      "❌ File not found: /home/Davcote/Desktop/HPV-Awareness-Impact-Analysis/data/processed_data/summary_data.xx\n"
     ]
    }
   ],
   "source": [
    "insert_file_to_db(\"/home/Davcote/Desktop/HPV-Awareness-Impact-Analysis/data/processed_data/summary_data.xx\")"
   ]
  },
  {
   "cell_type": "markdown",
   "id": "7ba7db72",
   "metadata": {},
   "source": [
    "# Listing all Tables present inside our Database"
   ]
  },
  {
   "cell_type": "code",
   "execution_count": 75,
   "id": "60b9666d",
   "metadata": {},
   "outputs": [
    {
     "data": {
      "application/vnd.microsoft.datawrangler.viewer.v0+json": {
       "columns": [
        {
         "name": "index",
         "rawType": "int64",
         "type": "integer"
        },
        {
         "name": "name",
         "rawType": "object",
         "type": "string"
        }
       ],
       "ref": "723c6eb1-74f6-48ab-967b-281a75150779",
       "rows": [
        [
         "0",
         "raw_data_PRE_TEST"
        ],
        [
         "1",
         "raw_data_HPV-KS"
        ],
        [
         "2",
         "raw_data_demographic_variables"
        ],
        [
         "3",
         "raw_data_1_DEMO_coded"
        ],
        [
         "4",
         "raw_data_1_HPV_CODED"
        ],
        [
         "5",
         "raw_data_POST_TEST"
        ],
        [
         "6",
         "raw_data_DEMO_2"
        ],
        [
         "7",
         "raw_data_coded_demo_2"
        ],
        [
         "8",
         "raw_data_HPV_KS_2"
        ],
        [
         "9",
         "raw_data_coded_hpv_2"
        ],
        [
         "10",
         "summary_data_demographic"
        ],
        [
         "11",
         "summary_data_pretest"
        ],
        [
         "12",
         "summary_data_post_test"
        ]
       ],
       "shape": {
        "columns": 1,
        "rows": 13
       }
      },
      "text/html": [
       "<div>\n",
       "<style scoped>\n",
       "    .dataframe tbody tr th:only-of-type {\n",
       "        vertical-align: middle;\n",
       "    }\n",
       "\n",
       "    .dataframe tbody tr th {\n",
       "        vertical-align: top;\n",
       "    }\n",
       "\n",
       "    .dataframe thead th {\n",
       "        text-align: right;\n",
       "    }\n",
       "</style>\n",
       "<table border=\"1\" class=\"dataframe\">\n",
       "  <thead>\n",
       "    <tr style=\"text-align: right;\">\n",
       "      <th></th>\n",
       "      <th>name</th>\n",
       "    </tr>\n",
       "  </thead>\n",
       "  <tbody>\n",
       "    <tr>\n",
       "      <th>0</th>\n",
       "      <td>raw_data_PRE_TEST</td>\n",
       "    </tr>\n",
       "    <tr>\n",
       "      <th>1</th>\n",
       "      <td>raw_data_HPV-KS</td>\n",
       "    </tr>\n",
       "    <tr>\n",
       "      <th>2</th>\n",
       "      <td>raw_data_demographic_variables</td>\n",
       "    </tr>\n",
       "    <tr>\n",
       "      <th>3</th>\n",
       "      <td>raw_data_1_DEMO_coded</td>\n",
       "    </tr>\n",
       "    <tr>\n",
       "      <th>4</th>\n",
       "      <td>raw_data_1_HPV_CODED</td>\n",
       "    </tr>\n",
       "    <tr>\n",
       "      <th>5</th>\n",
       "      <td>raw_data_POST_TEST</td>\n",
       "    </tr>\n",
       "    <tr>\n",
       "      <th>6</th>\n",
       "      <td>raw_data_DEMO_2</td>\n",
       "    </tr>\n",
       "    <tr>\n",
       "      <th>7</th>\n",
       "      <td>raw_data_coded_demo_2</td>\n",
       "    </tr>\n",
       "    <tr>\n",
       "      <th>8</th>\n",
       "      <td>raw_data_HPV_KS_2</td>\n",
       "    </tr>\n",
       "    <tr>\n",
       "      <th>9</th>\n",
       "      <td>raw_data_coded_hpv_2</td>\n",
       "    </tr>\n",
       "    <tr>\n",
       "      <th>10</th>\n",
       "      <td>summary_data_demographic</td>\n",
       "    </tr>\n",
       "    <tr>\n",
       "      <th>11</th>\n",
       "      <td>summary_data_pretest</td>\n",
       "    </tr>\n",
       "    <tr>\n",
       "      <th>12</th>\n",
       "      <td>summary_data_post_test</td>\n",
       "    </tr>\n",
       "  </tbody>\n",
       "</table>\n",
       "</div>"
      ],
      "text/plain": [
       "                              name\n",
       "0                raw_data_PRE_TEST\n",
       "1                  raw_data_HPV-KS\n",
       "2   raw_data_demographic_variables\n",
       "3            raw_data_1_DEMO_coded\n",
       "4             raw_data_1_HPV_CODED\n",
       "5               raw_data_POST_TEST\n",
       "6                  raw_data_DEMO_2\n",
       "7            raw_data_coded_demo_2\n",
       "8                raw_data_HPV_KS_2\n",
       "9             raw_data_coded_hpv_2\n",
       "10        summary_data_demographic\n",
       "11            summary_data_pretest\n",
       "12          summary_data_post_test"
      ]
     },
     "metadata": {},
     "output_type": "display_data"
    }
   ],
   "source": [
    "# List all tables in the DB to verify\n",
    "tables = run_sql(\"SELECT name FROM sqlite_master WHERE type='table';\")\n",
    "display(tables) #can use print(tables) as well for non-notebook environment"
   ]
  },
  {
   "cell_type": "code",
   "execution_count": 76,
   "id": "2dfc0fa6",
   "metadata": {},
   "outputs": [
    {
     "data": {
      "application/vnd.microsoft.datawrangler.viewer.v0+json": {
       "columns": [
        {
         "name": "index",
         "rawType": "int64",
         "type": "integer"
        },
        {
         "name": "Sno",
         "rawType": "int64",
         "type": "integer"
        },
        {
         "name": "1",
         "rawType": "int64",
         "type": "integer"
        },
        {
         "name": "2",
         "rawType": "int64",
         "type": "integer"
        },
        {
         "name": "3",
         "rawType": "int64",
         "type": "integer"
        },
        {
         "name": "4",
         "rawType": "int64",
         "type": "integer"
        },
        {
         "name": "5",
         "rawType": "int64",
         "type": "integer"
        },
        {
         "name": "6",
         "rawType": "int64",
         "type": "integer"
        },
        {
         "name": "7",
         "rawType": "int64",
         "type": "integer"
        },
        {
         "name": "8",
         "rawType": "int64",
         "type": "integer"
        }
       ],
       "ref": "0b956683-32fc-4f00-bdd5-06b531612acc",
       "rows": [
        [
         "0",
         "1",
         "1",
         "1",
         "0",
         "1",
         "2",
         "0",
         "0",
         "2"
        ],
        [
         "1",
         "2",
         "0",
         "0",
         "2",
         "1",
         "1",
         "2",
         "3",
         "0"
        ],
        [
         "2",
         "3",
         "0",
         "1",
         "0",
         "1",
         "1",
         "2",
         "2",
         "0"
        ],
        [
         "3",
         "4",
         "1",
         "1",
         "2",
         "1",
         "2",
         "0",
         "0",
         "3"
        ],
        [
         "4",
         "5",
         "0",
         "0",
         "1",
         "1",
         "2",
         "2",
         "2",
         "0"
        ]
       ],
       "shape": {
        "columns": 9,
        "rows": 5
       }
      },
      "text/html": [
       "<div>\n",
       "<style scoped>\n",
       "    .dataframe tbody tr th:only-of-type {\n",
       "        vertical-align: middle;\n",
       "    }\n",
       "\n",
       "    .dataframe tbody tr th {\n",
       "        vertical-align: top;\n",
       "    }\n",
       "\n",
       "    .dataframe thead th {\n",
       "        text-align: right;\n",
       "    }\n",
       "</style>\n",
       "<table border=\"1\" class=\"dataframe\">\n",
       "  <thead>\n",
       "    <tr style=\"text-align: right;\">\n",
       "      <th></th>\n",
       "      <th>Sno</th>\n",
       "      <th>1</th>\n",
       "      <th>2</th>\n",
       "      <th>3</th>\n",
       "      <th>4</th>\n",
       "      <th>5</th>\n",
       "      <th>6</th>\n",
       "      <th>7</th>\n",
       "      <th>8</th>\n",
       "    </tr>\n",
       "  </thead>\n",
       "  <tbody>\n",
       "    <tr>\n",
       "      <th>0</th>\n",
       "      <td>1</td>\n",
       "      <td>1</td>\n",
       "      <td>1</td>\n",
       "      <td>0</td>\n",
       "      <td>1</td>\n",
       "      <td>2</td>\n",
       "      <td>0</td>\n",
       "      <td>0</td>\n",
       "      <td>2</td>\n",
       "    </tr>\n",
       "    <tr>\n",
       "      <th>1</th>\n",
       "      <td>2</td>\n",
       "      <td>0</td>\n",
       "      <td>0</td>\n",
       "      <td>2</td>\n",
       "      <td>1</td>\n",
       "      <td>1</td>\n",
       "      <td>2</td>\n",
       "      <td>3</td>\n",
       "      <td>0</td>\n",
       "    </tr>\n",
       "    <tr>\n",
       "      <th>2</th>\n",
       "      <td>3</td>\n",
       "      <td>0</td>\n",
       "      <td>1</td>\n",
       "      <td>0</td>\n",
       "      <td>1</td>\n",
       "      <td>1</td>\n",
       "      <td>2</td>\n",
       "      <td>2</td>\n",
       "      <td>0</td>\n",
       "    </tr>\n",
       "    <tr>\n",
       "      <th>3</th>\n",
       "      <td>4</td>\n",
       "      <td>1</td>\n",
       "      <td>1</td>\n",
       "      <td>2</td>\n",
       "      <td>1</td>\n",
       "      <td>2</td>\n",
       "      <td>0</td>\n",
       "      <td>0</td>\n",
       "      <td>3</td>\n",
       "    </tr>\n",
       "    <tr>\n",
       "      <th>4</th>\n",
       "      <td>5</td>\n",
       "      <td>0</td>\n",
       "      <td>0</td>\n",
       "      <td>1</td>\n",
       "      <td>1</td>\n",
       "      <td>2</td>\n",
       "      <td>2</td>\n",
       "      <td>2</td>\n",
       "      <td>0</td>\n",
       "    </tr>\n",
       "  </tbody>\n",
       "</table>\n",
       "</div>"
      ],
      "text/plain": [
       "   Sno  1  2  3  4  5  6  7  8\n",
       "0    1  1  1  0  1  2  0  0  2\n",
       "1    2  0  0  2  1  1  2  3  0\n",
       "2    3  0  1  0  1  1  2  2  0\n",
       "3    4  1  1  2  1  2  0  0  3\n",
       "4    5  0  0  1  1  2  2  2  0"
      ]
     },
     "metadata": {},
     "output_type": "display_data"
    }
   ],
   "source": [
    "# Assigning summary_data_demographic table to a dataframe and displaying first 5 rows\n",
    "df_demo = run_sql(\"SELECT * FROM 'summary_data_demographic' LIMIT 5;\")\n",
    "display(df_demo)\n"
   ]
  },
  {
   "cell_type": "code",
   "execution_count": 77,
   "id": "9af293a8",
   "metadata": {},
   "outputs": [
    {
     "data": {
      "application/vnd.microsoft.datawrangler.viewer.v0+json": {
       "columns": [
        {
         "name": "index",
         "rawType": "int64",
         "type": "integer"
        },
        {
         "name": "Sno",
         "rawType": "float64",
         "type": "float"
        },
        {
         "name": "1",
         "rawType": "float64",
         "type": "float"
        },
        {
         "name": "2",
         "rawType": "float64",
         "type": "float"
        },
        {
         "name": "3",
         "rawType": "float64",
         "type": "float"
        },
        {
         "name": "4",
         "rawType": "float64",
         "type": "float"
        },
        {
         "name": "5",
         "rawType": "float64",
         "type": "float"
        },
        {
         "name": "6",
         "rawType": "float64",
         "type": "float"
        },
        {
         "name": "7",
         "rawType": "float64",
         "type": "float"
        },
        {
         "name": "8",
         "rawType": "float64",
         "type": "float"
        },
        {
         "name": "9",
         "rawType": "float64",
         "type": "float"
        },
        {
         "name": "10",
         "rawType": "float64",
         "type": "float"
        },
        {
         "name": "11",
         "rawType": "float64",
         "type": "float"
        },
        {
         "name": "12",
         "rawType": "float64",
         "type": "float"
        },
        {
         "name": "13",
         "rawType": "float64",
         "type": "float"
        },
        {
         "name": "14",
         "rawType": "float64",
         "type": "float"
        },
        {
         "name": "15",
         "rawType": "float64",
         "type": "float"
        },
        {
         "name": "16",
         "rawType": "float64",
         "type": "float"
        },
        {
         "name": "17",
         "rawType": "float64",
         "type": "float"
        },
        {
         "name": "18",
         "rawType": "float64",
         "type": "float"
        },
        {
         "name": "19",
         "rawType": "float64",
         "type": "float"
        },
        {
         "name": "20",
         "rawType": "float64",
         "type": "float"
        },
        {
         "name": "21",
         "rawType": "float64",
         "type": "float"
        },
        {
         "name": "22",
         "rawType": "float64",
         "type": "float"
        },
        {
         "name": "23",
         "rawType": "float64",
         "type": "float"
        },
        {
         "name": "24",
         "rawType": "float64",
         "type": "float"
        },
        {
         "name": "25",
         "rawType": "float64",
         "type": "float"
        },
        {
         "name": "26",
         "rawType": "float64",
         "type": "float"
        },
        {
         "name": "27",
         "rawType": "float64",
         "type": "float"
        },
        {
         "name": "28",
         "rawType": "float64",
         "type": "float"
        },
        {
         "name": "29",
         "rawType": "float64",
         "type": "float"
        },
        {
         "name": "30",
         "rawType": "float64",
         "type": "float"
        },
        {
         "name": "31",
         "rawType": "float64",
         "type": "float"
        },
        {
         "name": "32",
         "rawType": "float64",
         "type": "float"
        },
        {
         "name": "33",
         "rawType": "float64",
         "type": "float"
        },
        {
         "name": "Total points",
         "rawType": "float64",
         "type": "float"
        }
       ],
       "ref": "cee829b4-d761-4364-9aa0-a68a52636fad",
       "rows": [
        [
         "0",
         "1.0",
         "1.0",
         "1.0",
         "1.0",
         "1.0",
         "1.0",
         "1.0",
         "1.0",
         "0.0",
         "0.0",
         "1.0",
         "1.0",
         "0.0",
         "1.0",
         "1.0",
         "0.0",
         "1.0",
         "0.0",
         "1.0",
         "1.0",
         "0.0",
         "0.0",
         "0.0",
         "1.0",
         "1.0",
         "0.0",
         "0.0",
         "1.0",
         "1.0",
         "1.0",
         "1.0",
         "0.0",
         "1.0",
         "1.0",
         "22.0"
        ],
        [
         "1",
         "2.0",
         "0.0",
         "0.0",
         "0.0",
         "0.0",
         "0.0",
         "0.0",
         "0.0",
         "0.0",
         "0.0",
         "0.0",
         "0.0",
         "0.0",
         "0.0",
         "0.0",
         "0.0",
         "0.0",
         "0.0",
         "0.0",
         "0.0",
         "0.0",
         "0.0",
         "0.0",
         "0.0",
         "0.0",
         "0.0",
         "0.0",
         "0.0",
         "0.0",
         "0.0",
         "0.0",
         "0.0",
         "0.0",
         "0.0",
         "0.0"
        ],
        [
         "2",
         "3.0",
         "1.0",
         "0.0",
         "1.0",
         "0.0",
         "1.0",
         "0.0",
         "1.0",
         "0.0",
         "1.0",
         "0.0",
         "1.0",
         "1.0",
         "1.0",
         "0.0",
         "1.0",
         "0.0",
         "0.0",
         "1.0",
         "1.0",
         "0.0",
         "1.0",
         "0.0",
         "0.0",
         "1.0",
         "0.0",
         "1.0",
         "1.0",
         "0.0",
         "1.0",
         "0.0",
         "0.0",
         "0.0",
         "1.0",
         "17.0"
        ],
        [
         "3",
         "4.0",
         "1.0",
         "1.0",
         "1.0",
         "0.0",
         "1.0",
         "0.0",
         "1.0",
         "0.0",
         "0.0",
         "0.0",
         "1.0",
         "1.0",
         "1.0",
         "1.0",
         "1.0",
         "1.0",
         "0.0",
         "0.0",
         "0.0",
         "0.0",
         "0.0",
         "0.0",
         "0.0",
         "1.0",
         "0.0",
         "0.0",
         "1.0",
         "0.0",
         "0.0",
         "0.0",
         "0.0",
         "0.0",
         "0.0",
         "13.0"
        ],
        [
         "4",
         "5.0",
         "1.0",
         "1.0",
         "0.0",
         "0.0",
         "1.0",
         "0.0",
         "0.0",
         "0.0",
         "0.0",
         "0.0",
         "1.0",
         "0.0",
         "1.0",
         "0.0",
         "1.0",
         "0.0",
         "0.0",
         "1.0",
         "0.0",
         "1.0",
         "0.0",
         "1.0",
         "0.0",
         "1.0",
         "1.0",
         "0.0",
         "1.0",
         "1.0",
         "0.0",
         "1.0",
         "0.0",
         "0.0",
         "1.0",
         "15.0"
        ]
       ],
       "shape": {
        "columns": 35,
        "rows": 5
       }
      },
      "text/html": [
       "<div>\n",
       "<style scoped>\n",
       "    .dataframe tbody tr th:only-of-type {\n",
       "        vertical-align: middle;\n",
       "    }\n",
       "\n",
       "    .dataframe tbody tr th {\n",
       "        vertical-align: top;\n",
       "    }\n",
       "\n",
       "    .dataframe thead th {\n",
       "        text-align: right;\n",
       "    }\n",
       "</style>\n",
       "<table border=\"1\" class=\"dataframe\">\n",
       "  <thead>\n",
       "    <tr style=\"text-align: right;\">\n",
       "      <th></th>\n",
       "      <th>Sno</th>\n",
       "      <th>1</th>\n",
       "      <th>2</th>\n",
       "      <th>3</th>\n",
       "      <th>4</th>\n",
       "      <th>5</th>\n",
       "      <th>6</th>\n",
       "      <th>7</th>\n",
       "      <th>8</th>\n",
       "      <th>9</th>\n",
       "      <th>...</th>\n",
       "      <th>25</th>\n",
       "      <th>26</th>\n",
       "      <th>27</th>\n",
       "      <th>28</th>\n",
       "      <th>29</th>\n",
       "      <th>30</th>\n",
       "      <th>31</th>\n",
       "      <th>32</th>\n",
       "      <th>33</th>\n",
       "      <th>Total points</th>\n",
       "    </tr>\n",
       "  </thead>\n",
       "  <tbody>\n",
       "    <tr>\n",
       "      <th>0</th>\n",
       "      <td>1.0</td>\n",
       "      <td>1.0</td>\n",
       "      <td>1.0</td>\n",
       "      <td>1.0</td>\n",
       "      <td>1.0</td>\n",
       "      <td>1.0</td>\n",
       "      <td>1.0</td>\n",
       "      <td>1.0</td>\n",
       "      <td>0.0</td>\n",
       "      <td>0.0</td>\n",
       "      <td>...</td>\n",
       "      <td>0.0</td>\n",
       "      <td>0.0</td>\n",
       "      <td>1.0</td>\n",
       "      <td>1.0</td>\n",
       "      <td>1.0</td>\n",
       "      <td>1.0</td>\n",
       "      <td>0.0</td>\n",
       "      <td>1.0</td>\n",
       "      <td>1.0</td>\n",
       "      <td>22.0</td>\n",
       "    </tr>\n",
       "    <tr>\n",
       "      <th>1</th>\n",
       "      <td>2.0</td>\n",
       "      <td>0.0</td>\n",
       "      <td>0.0</td>\n",
       "      <td>0.0</td>\n",
       "      <td>0.0</td>\n",
       "      <td>0.0</td>\n",
       "      <td>0.0</td>\n",
       "      <td>0.0</td>\n",
       "      <td>0.0</td>\n",
       "      <td>0.0</td>\n",
       "      <td>...</td>\n",
       "      <td>0.0</td>\n",
       "      <td>0.0</td>\n",
       "      <td>0.0</td>\n",
       "      <td>0.0</td>\n",
       "      <td>0.0</td>\n",
       "      <td>0.0</td>\n",
       "      <td>0.0</td>\n",
       "      <td>0.0</td>\n",
       "      <td>0.0</td>\n",
       "      <td>0.0</td>\n",
       "    </tr>\n",
       "    <tr>\n",
       "      <th>2</th>\n",
       "      <td>3.0</td>\n",
       "      <td>1.0</td>\n",
       "      <td>0.0</td>\n",
       "      <td>1.0</td>\n",
       "      <td>0.0</td>\n",
       "      <td>1.0</td>\n",
       "      <td>0.0</td>\n",
       "      <td>1.0</td>\n",
       "      <td>0.0</td>\n",
       "      <td>1.0</td>\n",
       "      <td>...</td>\n",
       "      <td>0.0</td>\n",
       "      <td>1.0</td>\n",
       "      <td>1.0</td>\n",
       "      <td>0.0</td>\n",
       "      <td>1.0</td>\n",
       "      <td>0.0</td>\n",
       "      <td>0.0</td>\n",
       "      <td>0.0</td>\n",
       "      <td>1.0</td>\n",
       "      <td>17.0</td>\n",
       "    </tr>\n",
       "    <tr>\n",
       "      <th>3</th>\n",
       "      <td>4.0</td>\n",
       "      <td>1.0</td>\n",
       "      <td>1.0</td>\n",
       "      <td>1.0</td>\n",
       "      <td>0.0</td>\n",
       "      <td>1.0</td>\n",
       "      <td>0.0</td>\n",
       "      <td>1.0</td>\n",
       "      <td>0.0</td>\n",
       "      <td>0.0</td>\n",
       "      <td>...</td>\n",
       "      <td>0.0</td>\n",
       "      <td>0.0</td>\n",
       "      <td>1.0</td>\n",
       "      <td>0.0</td>\n",
       "      <td>0.0</td>\n",
       "      <td>0.0</td>\n",
       "      <td>0.0</td>\n",
       "      <td>0.0</td>\n",
       "      <td>0.0</td>\n",
       "      <td>13.0</td>\n",
       "    </tr>\n",
       "    <tr>\n",
       "      <th>4</th>\n",
       "      <td>5.0</td>\n",
       "      <td>1.0</td>\n",
       "      <td>1.0</td>\n",
       "      <td>0.0</td>\n",
       "      <td>0.0</td>\n",
       "      <td>1.0</td>\n",
       "      <td>0.0</td>\n",
       "      <td>0.0</td>\n",
       "      <td>0.0</td>\n",
       "      <td>0.0</td>\n",
       "      <td>...</td>\n",
       "      <td>1.0</td>\n",
       "      <td>0.0</td>\n",
       "      <td>1.0</td>\n",
       "      <td>1.0</td>\n",
       "      <td>0.0</td>\n",
       "      <td>1.0</td>\n",
       "      <td>0.0</td>\n",
       "      <td>0.0</td>\n",
       "      <td>1.0</td>\n",
       "      <td>15.0</td>\n",
       "    </tr>\n",
       "  </tbody>\n",
       "</table>\n",
       "<p>5 rows × 35 columns</p>\n",
       "</div>"
      ],
      "text/plain": [
       "   Sno    1    2    3    4    5    6    7    8    9  ...   25   26   27   28  \\\n",
       "0  1.0  1.0  1.0  1.0  1.0  1.0  1.0  1.0  0.0  0.0  ...  0.0  0.0  1.0  1.0   \n",
       "1  2.0  0.0  0.0  0.0  0.0  0.0  0.0  0.0  0.0  0.0  ...  0.0  0.0  0.0  0.0   \n",
       "2  3.0  1.0  0.0  1.0  0.0  1.0  0.0  1.0  0.0  1.0  ...  0.0  1.0  1.0  0.0   \n",
       "3  4.0  1.0  1.0  1.0  0.0  1.0  0.0  1.0  0.0  0.0  ...  0.0  0.0  1.0  0.0   \n",
       "4  5.0  1.0  1.0  0.0  0.0  1.0  0.0  0.0  0.0  0.0  ...  1.0  0.0  1.0  1.0   \n",
       "\n",
       "    29   30   31   32   33  Total points  \n",
       "0  1.0  1.0  0.0  1.0  1.0          22.0  \n",
       "1  0.0  0.0  0.0  0.0  0.0           0.0  \n",
       "2  1.0  0.0  0.0  0.0  1.0          17.0  \n",
       "3  0.0  0.0  0.0  0.0  0.0          13.0  \n",
       "4  0.0  1.0  0.0  0.0  1.0          15.0  \n",
       "\n",
       "[5 rows x 35 columns]"
      ]
     },
     "metadata": {},
     "output_type": "display_data"
    }
   ],
   "source": [
    "# Assigning summary_data_pretest table to a dataframe and displaying first 5 rows\n",
    "df_pre = run_sql(\"SELECT * FROM 'summary_data_pretest' LIMIT 5;\")\n",
    "display(df_pre)"
   ]
  },
  {
   "cell_type": "code",
   "execution_count": 78,
   "id": "7848dbea",
   "metadata": {},
   "outputs": [
    {
     "data": {
      "application/vnd.microsoft.datawrangler.viewer.v0+json": {
       "columns": [
        {
         "name": "index",
         "rawType": "int64",
         "type": "integer"
        },
        {
         "name": "Sno",
         "rawType": "float64",
         "type": "float"
        },
        {
         "name": "1",
         "rawType": "float64",
         "type": "float"
        },
        {
         "name": "2",
         "rawType": "float64",
         "type": "float"
        },
        {
         "name": "3",
         "rawType": "float64",
         "type": "float"
        },
        {
         "name": "4",
         "rawType": "float64",
         "type": "float"
        },
        {
         "name": "5",
         "rawType": "float64",
         "type": "float"
        },
        {
         "name": "6",
         "rawType": "float64",
         "type": "float"
        },
        {
         "name": "7",
         "rawType": "float64",
         "type": "float"
        },
        {
         "name": "8",
         "rawType": "float64",
         "type": "float"
        },
        {
         "name": "9",
         "rawType": "float64",
         "type": "float"
        },
        {
         "name": "10",
         "rawType": "float64",
         "type": "float"
        },
        {
         "name": "11",
         "rawType": "float64",
         "type": "float"
        },
        {
         "name": "12",
         "rawType": "float64",
         "type": "float"
        },
        {
         "name": "13",
         "rawType": "float64",
         "type": "float"
        },
        {
         "name": "14",
         "rawType": "float64",
         "type": "float"
        },
        {
         "name": "15",
         "rawType": "float64",
         "type": "float"
        },
        {
         "name": "16",
         "rawType": "float64",
         "type": "float"
        },
        {
         "name": "17",
         "rawType": "float64",
         "type": "float"
        },
        {
         "name": "18",
         "rawType": "float64",
         "type": "float"
        },
        {
         "name": "19",
         "rawType": "float64",
         "type": "float"
        },
        {
         "name": "20",
         "rawType": "float64",
         "type": "float"
        },
        {
         "name": "21",
         "rawType": "float64",
         "type": "float"
        },
        {
         "name": "22",
         "rawType": "float64",
         "type": "float"
        },
        {
         "name": "23",
         "rawType": "float64",
         "type": "float"
        },
        {
         "name": "24",
         "rawType": "float64",
         "type": "float"
        },
        {
         "name": "25",
         "rawType": "float64",
         "type": "float"
        },
        {
         "name": "26",
         "rawType": "float64",
         "type": "float"
        },
        {
         "name": "27",
         "rawType": "float64",
         "type": "float"
        },
        {
         "name": "28",
         "rawType": "float64",
         "type": "float"
        },
        {
         "name": "29",
         "rawType": "float64",
         "type": "float"
        },
        {
         "name": "30",
         "rawType": "float64",
         "type": "float"
        },
        {
         "name": "31",
         "rawType": "float64",
         "type": "float"
        },
        {
         "name": "32",
         "rawType": "float64",
         "type": "float"
        },
        {
         "name": "33",
         "rawType": "float64",
         "type": "float"
        },
        {
         "name": "Total",
         "rawType": "float64",
         "type": "float"
        }
       ],
       "ref": "870ee478-0efa-4ad0-bd64-81ac28c6b744",
       "rows": [
        [
         "0",
         "1.0",
         "1.0",
         "1.0",
         "1.0",
         "0.0",
         "1.0",
         "0.0",
         "1.0",
         "0.0",
         "1.0",
         "0.0",
         "1.0",
         "1.0",
         "1.0",
         "0.0",
         "1.0",
         "1.0",
         "0.0",
         "1.0",
         "0.0",
         "0.0",
         "0.0",
         "1.0",
         "0.0",
         "1.0",
         "0.0",
         "0.0",
         "1.0",
         "1.0",
         "1.0",
         "1.0",
         "0.0",
         "0.0",
         "1.0",
         "19.0"
        ],
        [
         "1",
         "2.0",
         "1.0",
         "1.0",
         "0.0",
         "0.0",
         "1.0",
         "1.0",
         "0.0",
         "0.0",
         "0.0",
         "0.0",
         "1.0",
         "0.0",
         "0.0",
         "1.0",
         "0.0",
         "1.0",
         "1.0",
         "0.0",
         "0.0",
         "0.0",
         "0.0",
         "1.0",
         "1.0",
         "0.0",
         "0.0",
         "0.0",
         "0.0",
         "0.0",
         "0.0",
         "0.0",
         "0.0",
         "1.0",
         "0.0",
         "11.0"
        ],
        [
         "2",
         "3.0",
         "1.0",
         "1.0",
         "1.0",
         "1.0",
         "1.0",
         "1.0",
         "1.0",
         "1.0",
         "1.0",
         "1.0",
         "0.0",
         "1.0",
         "0.0",
         "0.0",
         "1.0",
         "1.0",
         "1.0",
         "0.0",
         "1.0",
         "0.0",
         "1.0",
         "1.0",
         "1.0",
         "1.0",
         "0.0",
         "1.0",
         "1.0",
         "1.0",
         "0.0",
         "0.0",
         "1.0",
         "0.0",
         "0.0",
         "23.0"
        ],
        [
         "3",
         "4.0",
         "1.0",
         "1.0",
         "1.0",
         "1.0",
         "1.0",
         "1.0",
         "1.0",
         "0.0",
         "1.0",
         "1.0",
         "1.0",
         "1.0",
         "1.0",
         "1.0",
         "1.0",
         "0.0",
         "0.0",
         "1.0",
         "0.0",
         "0.0",
         "1.0",
         "1.0",
         "0.0",
         "1.0",
         "1.0",
         "1.0",
         "1.0",
         "1.0",
         "0.0",
         "1.0",
         "0.0",
         "0.0",
         "1.0",
         "24.0"
        ],
        [
         "4",
         "5.0",
         "1.0",
         "1.0",
         "1.0",
         "1.0",
         "1.0",
         "0.0",
         "1.0",
         "1.0",
         "1.0",
         "1.0",
         "1.0",
         "1.0",
         "1.0",
         "1.0",
         "1.0",
         "0.0",
         "0.0",
         "1.0",
         "0.0",
         "0.0",
         "1.0",
         "1.0",
         "0.0",
         "0.0",
         "0.0",
         "1.0",
         "1.0",
         "1.0",
         "1.0",
         "1.0",
         "1.0",
         "0.0",
         "1.0",
         "24.0"
        ]
       ],
       "shape": {
        "columns": 35,
        "rows": 5
       }
      },
      "text/html": [
       "<div>\n",
       "<style scoped>\n",
       "    .dataframe tbody tr th:only-of-type {\n",
       "        vertical-align: middle;\n",
       "    }\n",
       "\n",
       "    .dataframe tbody tr th {\n",
       "        vertical-align: top;\n",
       "    }\n",
       "\n",
       "    .dataframe thead th {\n",
       "        text-align: right;\n",
       "    }\n",
       "</style>\n",
       "<table border=\"1\" class=\"dataframe\">\n",
       "  <thead>\n",
       "    <tr style=\"text-align: right;\">\n",
       "      <th></th>\n",
       "      <th>Sno</th>\n",
       "      <th>1</th>\n",
       "      <th>2</th>\n",
       "      <th>3</th>\n",
       "      <th>4</th>\n",
       "      <th>5</th>\n",
       "      <th>6</th>\n",
       "      <th>7</th>\n",
       "      <th>8</th>\n",
       "      <th>9</th>\n",
       "      <th>...</th>\n",
       "      <th>25</th>\n",
       "      <th>26</th>\n",
       "      <th>27</th>\n",
       "      <th>28</th>\n",
       "      <th>29</th>\n",
       "      <th>30</th>\n",
       "      <th>31</th>\n",
       "      <th>32</th>\n",
       "      <th>33</th>\n",
       "      <th>Total</th>\n",
       "    </tr>\n",
       "  </thead>\n",
       "  <tbody>\n",
       "    <tr>\n",
       "      <th>0</th>\n",
       "      <td>1.0</td>\n",
       "      <td>1.0</td>\n",
       "      <td>1.0</td>\n",
       "      <td>1.0</td>\n",
       "      <td>0.0</td>\n",
       "      <td>1.0</td>\n",
       "      <td>0.0</td>\n",
       "      <td>1.0</td>\n",
       "      <td>0.0</td>\n",
       "      <td>1.0</td>\n",
       "      <td>...</td>\n",
       "      <td>0.0</td>\n",
       "      <td>0.0</td>\n",
       "      <td>1.0</td>\n",
       "      <td>1.0</td>\n",
       "      <td>1.0</td>\n",
       "      <td>1.0</td>\n",
       "      <td>0.0</td>\n",
       "      <td>0.0</td>\n",
       "      <td>1.0</td>\n",
       "      <td>19.0</td>\n",
       "    </tr>\n",
       "    <tr>\n",
       "      <th>1</th>\n",
       "      <td>2.0</td>\n",
       "      <td>1.0</td>\n",
       "      <td>1.0</td>\n",
       "      <td>0.0</td>\n",
       "      <td>0.0</td>\n",
       "      <td>1.0</td>\n",
       "      <td>1.0</td>\n",
       "      <td>0.0</td>\n",
       "      <td>0.0</td>\n",
       "      <td>0.0</td>\n",
       "      <td>...</td>\n",
       "      <td>0.0</td>\n",
       "      <td>0.0</td>\n",
       "      <td>0.0</td>\n",
       "      <td>0.0</td>\n",
       "      <td>0.0</td>\n",
       "      <td>0.0</td>\n",
       "      <td>0.0</td>\n",
       "      <td>1.0</td>\n",
       "      <td>0.0</td>\n",
       "      <td>11.0</td>\n",
       "    </tr>\n",
       "    <tr>\n",
       "      <th>2</th>\n",
       "      <td>3.0</td>\n",
       "      <td>1.0</td>\n",
       "      <td>1.0</td>\n",
       "      <td>1.0</td>\n",
       "      <td>1.0</td>\n",
       "      <td>1.0</td>\n",
       "      <td>1.0</td>\n",
       "      <td>1.0</td>\n",
       "      <td>1.0</td>\n",
       "      <td>1.0</td>\n",
       "      <td>...</td>\n",
       "      <td>0.0</td>\n",
       "      <td>1.0</td>\n",
       "      <td>1.0</td>\n",
       "      <td>1.0</td>\n",
       "      <td>0.0</td>\n",
       "      <td>0.0</td>\n",
       "      <td>1.0</td>\n",
       "      <td>0.0</td>\n",
       "      <td>0.0</td>\n",
       "      <td>23.0</td>\n",
       "    </tr>\n",
       "    <tr>\n",
       "      <th>3</th>\n",
       "      <td>4.0</td>\n",
       "      <td>1.0</td>\n",
       "      <td>1.0</td>\n",
       "      <td>1.0</td>\n",
       "      <td>1.0</td>\n",
       "      <td>1.0</td>\n",
       "      <td>1.0</td>\n",
       "      <td>1.0</td>\n",
       "      <td>0.0</td>\n",
       "      <td>1.0</td>\n",
       "      <td>...</td>\n",
       "      <td>1.0</td>\n",
       "      <td>1.0</td>\n",
       "      <td>1.0</td>\n",
       "      <td>1.0</td>\n",
       "      <td>0.0</td>\n",
       "      <td>1.0</td>\n",
       "      <td>0.0</td>\n",
       "      <td>0.0</td>\n",
       "      <td>1.0</td>\n",
       "      <td>24.0</td>\n",
       "    </tr>\n",
       "    <tr>\n",
       "      <th>4</th>\n",
       "      <td>5.0</td>\n",
       "      <td>1.0</td>\n",
       "      <td>1.0</td>\n",
       "      <td>1.0</td>\n",
       "      <td>1.0</td>\n",
       "      <td>1.0</td>\n",
       "      <td>0.0</td>\n",
       "      <td>1.0</td>\n",
       "      <td>1.0</td>\n",
       "      <td>1.0</td>\n",
       "      <td>...</td>\n",
       "      <td>0.0</td>\n",
       "      <td>1.0</td>\n",
       "      <td>1.0</td>\n",
       "      <td>1.0</td>\n",
       "      <td>1.0</td>\n",
       "      <td>1.0</td>\n",
       "      <td>1.0</td>\n",
       "      <td>0.0</td>\n",
       "      <td>1.0</td>\n",
       "      <td>24.0</td>\n",
       "    </tr>\n",
       "  </tbody>\n",
       "</table>\n",
       "<p>5 rows × 35 columns</p>\n",
       "</div>"
      ],
      "text/plain": [
       "   Sno    1    2    3    4    5    6    7    8    9  ...   25   26   27   28  \\\n",
       "0  1.0  1.0  1.0  1.0  0.0  1.0  0.0  1.0  0.0  1.0  ...  0.0  0.0  1.0  1.0   \n",
       "1  2.0  1.0  1.0  0.0  0.0  1.0  1.0  0.0  0.0  0.0  ...  0.0  0.0  0.0  0.0   \n",
       "2  3.0  1.0  1.0  1.0  1.0  1.0  1.0  1.0  1.0  1.0  ...  0.0  1.0  1.0  1.0   \n",
       "3  4.0  1.0  1.0  1.0  1.0  1.0  1.0  1.0  0.0  1.0  ...  1.0  1.0  1.0  1.0   \n",
       "4  5.0  1.0  1.0  1.0  1.0  1.0  0.0  1.0  1.0  1.0  ...  0.0  1.0  1.0  1.0   \n",
       "\n",
       "    29   30   31   32   33  Total  \n",
       "0  1.0  1.0  0.0  0.0  1.0   19.0  \n",
       "1  0.0  0.0  0.0  1.0  0.0   11.0  \n",
       "2  0.0  0.0  1.0  0.0  0.0   23.0  \n",
       "3  0.0  1.0  0.0  0.0  1.0   24.0  \n",
       "4  1.0  1.0  1.0  0.0  1.0   24.0  \n",
       "\n",
       "[5 rows x 35 columns]"
      ]
     },
     "metadata": {},
     "output_type": "display_data"
    }
   ],
   "source": [
    "# Assigning summary_data_posttest table to a dataframe and displaying first 5 rows\n",
    "df_post = run_sql(\"SELECT * FROM 'summary_data_post_test' LIMIT 5;\")\n",
    "display(df_post)\n"
   ]
  },
  {
   "cell_type": "markdown",
   "id": "c1bbc638",
   "metadata": {},
   "source": [
    "Conclusion : Datatype of each table is correctly assigned (float64)"
   ]
  },
  {
   "cell_type": "markdown",
   "id": "5f03b301",
   "metadata": {},
   "source": [
    "# Section 2 : Data Cleaning and Preprocessing"
   ]
  },
  {
   "cell_type": "code",
   "execution_count": 79,
   "id": "0966b7e7",
   "metadata": {},
   "outputs": [],
   "source": [
    "# --- 1. Defining Mappings ---\n",
    "# These mappings will be used to create human-readable columns for easier analysis later\n",
    "demographic_cols_map = {\n",
    "    '1': 'Age', \n",
    "    '2': 'Gender', \n",
    "    '3': 'Place_of_Residency', \n",
    "    '4': 'Education',\n",
    "    '5': 'Vaccination_Status', \n",
    "    '6': 'Health_Care_Access', \n",
    "    '7': 'Occupation_of_Parents',\n",
    "    '8': 'Family_Income_per_Month'\n",
    "}\n",
    "\n",
    "\n",
    "demographic_maps = {\n",
    "    'Age': {0: '15-19 Years', 1: '19-24 Years', 2: '24 Years and above'},\n",
    "    'Gender': {0: 'Female', 1: 'Male'},\n",
    "    'Place_of_Residency': {0: 'Rural', 1: 'Semi-Urban', 2: 'Urban'},\n",
    "    'Education': {0: 'High school', 1: 'Under graduation', 2: 'Post-graduation'},\n",
    "    'Vaccination_Status': {0: 'Irregularly vaccinated', 1: 'Regularly vaccinated', 2: 'Not vaccinated'},\n",
    "    'Health_Care_Access': {0: 'Easily accessible', 1: 'Not accessible', 2: 'Not interested'},\n",
    "    'Occupation_of_Parents': {0: 'Professional', 1: 'Retired', 2: 'Skilled', 3: 'Unemployed'},\n",
    "    'Family_Income_per_Month': {\n",
    "        0: 'Below ₹14,997', 1: '₹14,977 - ₹22,494', 2: '₹22,495 - ₹37,492',\n",
    "        3: '₹37,493 - ₹74,999', 4: '₹75,000 and above'\n",
    "    }\n",
    "}"
   ]
  },
  {
   "cell_type": "code",
   "execution_count": 80,
   "id": "ad4dad24",
   "metadata": {},
   "outputs": [
    {
     "name": "stdout",
     "output_type": "stream",
     "text": [
      "Data fetched successfully from database tables.\n"
     ]
    }
   ],
   "source": [
    "# --- 2. Loading Full Data from DB ---\n",
    "# Loading full tables into DataFrames\n",
    "df_demo_full = pd.read_sql_query(\"SELECT * FROM summary_data_demographic\", engine)\n",
    "df_pre_full = pd.read_sql_query(\"SELECT * FROM summary_data_pretest\", engine)\n",
    "df_post_full = pd.read_sql_query(\"SELECT * FROM summary_data_post_test\", engine)\n",
    "print(\"Data fetched successfully from database tables.\")"
   ]
  },
  {
   "cell_type": "code",
   "execution_count": 81,
   "id": "f5f691d9",
   "metadata": {},
   "outputs": [
    {
     "name": "stdout",
     "output_type": "stream",
     "text": [
      "Dataframes merged successfully.\n"
     ]
    }
   ],
   "source": [
    "# --- 3. Cleaning and Merging Data ---\n",
    "df_demo_full = df_demo_full.rename(columns=demographic_cols_map)\n",
    "df_pre_full = df_pre_full.rename(columns={'Total points': 'pre_test_score'})\n",
    "df_post_full = df_post_full.rename(columns={'Total': 'post_test_score'})\n",
    "\n",
    "# Merging the dataframes into a single master dataframe\n",
    "df_merged = pd.merge(df_demo_full, df_pre_full[['Sno', 'pre_test_score']], on='Sno')\n",
    "df_final = pd.merge(df_merged, df_post_full[['Sno', 'post_test_score']], on='Sno')\n",
    "print(\"Dataframes merged successfully.\")"
   ]
  },
  {
   "cell_type": "code",
   "execution_count": 82,
   "id": "7ba22288",
   "metadata": {},
   "outputs": [
    {
     "name": "stdout",
     "output_type": "stream",
     "text": [
      "Dataframes cleaned, merged, and new label columns created.\n",
      "\n",
      "Final Data Head:\n"
     ]
    },
    {
     "data": {
      "application/vnd.microsoft.datawrangler.viewer.v0+json": {
       "columns": [
        {
         "name": "index",
         "rawType": "int64",
         "type": "integer"
        },
        {
         "name": "Sno",
         "rawType": "int64",
         "type": "integer"
        },
        {
         "name": "Age",
         "rawType": "int64",
         "type": "integer"
        },
        {
         "name": "Gender",
         "rawType": "int64",
         "type": "integer"
        },
        {
         "name": "Place_of_Residency",
         "rawType": "int64",
         "type": "integer"
        },
        {
         "name": "Education",
         "rawType": "int64",
         "type": "integer"
        },
        {
         "name": "Vaccination_Status",
         "rawType": "int64",
         "type": "integer"
        },
        {
         "name": "Health_Care_Access",
         "rawType": "int64",
         "type": "integer"
        },
        {
         "name": "Occupation_of_Parents",
         "rawType": "int64",
         "type": "integer"
        },
        {
         "name": "Family_Income_per_Month",
         "rawType": "int64",
         "type": "integer"
        },
        {
         "name": "pre_test_score",
         "rawType": "float64",
         "type": "float"
        },
        {
         "name": "post_test_score",
         "rawType": "float64",
         "type": "float"
        },
        {
         "name": "Age_Label",
         "rawType": "object",
         "type": "string"
        },
        {
         "name": "Gender_Label",
         "rawType": "object",
         "type": "string"
        },
        {
         "name": "Place_of_Residency_Label",
         "rawType": "object",
         "type": "string"
        },
        {
         "name": "Education_Label",
         "rawType": "object",
         "type": "string"
        },
        {
         "name": "Vaccination_Status_Label",
         "rawType": "object",
         "type": "string"
        },
        {
         "name": "Health_Care_Access_Label",
         "rawType": "object",
         "type": "string"
        },
        {
         "name": "Occupation_of_Parents_Label",
         "rawType": "object",
         "type": "string"
        },
        {
         "name": "Family_Income_per_Month_Label",
         "rawType": "object",
         "type": "string"
        },
        {
         "name": "score_improvement",
         "rawType": "float64",
         "type": "float"
        }
       ],
       "ref": "9bede15e-0dd5-46d5-859b-b0999601a0f8",
       "rows": [
        [
         "0",
         "1",
         "1",
         "1",
         "0",
         "1",
         "2",
         "0",
         "0",
         "2",
         "22.0",
         "19.0",
         "19-24 Years",
         "Male",
         "Rural",
         "Under graduation",
         "Not vaccinated",
         "Easily accessible",
         "Professional",
         "₹22,495 - ₹37,492",
         "-3.0"
        ],
        [
         "1",
         "2",
         "0",
         "0",
         "2",
         "1",
         "1",
         "2",
         "3",
         "0",
         "0.0",
         "11.0",
         "15-19 Years",
         "Female",
         "Urban",
         "Under graduation",
         "Regularly vaccinated",
         "Not interested",
         "Unemployed",
         "Below ₹14,997",
         "11.0"
        ],
        [
         "2",
         "3",
         "0",
         "1",
         "0",
         "1",
         "1",
         "2",
         "2",
         "0",
         "17.0",
         "23.0",
         "15-19 Years",
         "Male",
         "Rural",
         "Under graduation",
         "Regularly vaccinated",
         "Not interested",
         "Skilled",
         "Below ₹14,997",
         "6.0"
        ],
        [
         "3",
         "4",
         "1",
         "1",
         "2",
         "1",
         "2",
         "0",
         "0",
         "3",
         "13.0",
         "24.0",
         "19-24 Years",
         "Male",
         "Urban",
         "Under graduation",
         "Not vaccinated",
         "Easily accessible",
         "Professional",
         "₹37,493 - ₹74,999",
         "11.0"
        ],
        [
         "4",
         "5",
         "0",
         "0",
         "1",
         "1",
         "2",
         "2",
         "2",
         "0",
         "15.0",
         "24.0",
         "15-19 Years",
         "Female",
         "Semi-Urban",
         "Under graduation",
         "Not vaccinated",
         "Not interested",
         "Skilled",
         "Below ₹14,997",
         "9.0"
        ]
       ],
       "shape": {
        "columns": 20,
        "rows": 5
       }
      },
      "text/html": [
       "<div>\n",
       "<style scoped>\n",
       "    .dataframe tbody tr th:only-of-type {\n",
       "        vertical-align: middle;\n",
       "    }\n",
       "\n",
       "    .dataframe tbody tr th {\n",
       "        vertical-align: top;\n",
       "    }\n",
       "\n",
       "    .dataframe thead th {\n",
       "        text-align: right;\n",
       "    }\n",
       "</style>\n",
       "<table border=\"1\" class=\"dataframe\">\n",
       "  <thead>\n",
       "    <tr style=\"text-align: right;\">\n",
       "      <th></th>\n",
       "      <th>Sno</th>\n",
       "      <th>Age</th>\n",
       "      <th>Gender</th>\n",
       "      <th>Place_of_Residency</th>\n",
       "      <th>Education</th>\n",
       "      <th>Vaccination_Status</th>\n",
       "      <th>Health_Care_Access</th>\n",
       "      <th>Occupation_of_Parents</th>\n",
       "      <th>Family_Income_per_Month</th>\n",
       "      <th>pre_test_score</th>\n",
       "      <th>post_test_score</th>\n",
       "      <th>Age_Label</th>\n",
       "      <th>Gender_Label</th>\n",
       "      <th>Place_of_Residency_Label</th>\n",
       "      <th>Education_Label</th>\n",
       "      <th>Vaccination_Status_Label</th>\n",
       "      <th>Health_Care_Access_Label</th>\n",
       "      <th>Occupation_of_Parents_Label</th>\n",
       "      <th>Family_Income_per_Month_Label</th>\n",
       "      <th>score_improvement</th>\n",
       "    </tr>\n",
       "  </thead>\n",
       "  <tbody>\n",
       "    <tr>\n",
       "      <th>0</th>\n",
       "      <td>1</td>\n",
       "      <td>1</td>\n",
       "      <td>1</td>\n",
       "      <td>0</td>\n",
       "      <td>1</td>\n",
       "      <td>2</td>\n",
       "      <td>0</td>\n",
       "      <td>0</td>\n",
       "      <td>2</td>\n",
       "      <td>22.0</td>\n",
       "      <td>19.0</td>\n",
       "      <td>19-24 Years</td>\n",
       "      <td>Male</td>\n",
       "      <td>Rural</td>\n",
       "      <td>Under graduation</td>\n",
       "      <td>Not vaccinated</td>\n",
       "      <td>Easily accessible</td>\n",
       "      <td>Professional</td>\n",
       "      <td>₹22,495 - ₹37,492</td>\n",
       "      <td>-3.0</td>\n",
       "    </tr>\n",
       "    <tr>\n",
       "      <th>1</th>\n",
       "      <td>2</td>\n",
       "      <td>0</td>\n",
       "      <td>0</td>\n",
       "      <td>2</td>\n",
       "      <td>1</td>\n",
       "      <td>1</td>\n",
       "      <td>2</td>\n",
       "      <td>3</td>\n",
       "      <td>0</td>\n",
       "      <td>0.0</td>\n",
       "      <td>11.0</td>\n",
       "      <td>15-19 Years</td>\n",
       "      <td>Female</td>\n",
       "      <td>Urban</td>\n",
       "      <td>Under graduation</td>\n",
       "      <td>Regularly vaccinated</td>\n",
       "      <td>Not interested</td>\n",
       "      <td>Unemployed</td>\n",
       "      <td>Below ₹14,997</td>\n",
       "      <td>11.0</td>\n",
       "    </tr>\n",
       "    <tr>\n",
       "      <th>2</th>\n",
       "      <td>3</td>\n",
       "      <td>0</td>\n",
       "      <td>1</td>\n",
       "      <td>0</td>\n",
       "      <td>1</td>\n",
       "      <td>1</td>\n",
       "      <td>2</td>\n",
       "      <td>2</td>\n",
       "      <td>0</td>\n",
       "      <td>17.0</td>\n",
       "      <td>23.0</td>\n",
       "      <td>15-19 Years</td>\n",
       "      <td>Male</td>\n",
       "      <td>Rural</td>\n",
       "      <td>Under graduation</td>\n",
       "      <td>Regularly vaccinated</td>\n",
       "      <td>Not interested</td>\n",
       "      <td>Skilled</td>\n",
       "      <td>Below ₹14,997</td>\n",
       "      <td>6.0</td>\n",
       "    </tr>\n",
       "    <tr>\n",
       "      <th>3</th>\n",
       "      <td>4</td>\n",
       "      <td>1</td>\n",
       "      <td>1</td>\n",
       "      <td>2</td>\n",
       "      <td>1</td>\n",
       "      <td>2</td>\n",
       "      <td>0</td>\n",
       "      <td>0</td>\n",
       "      <td>3</td>\n",
       "      <td>13.0</td>\n",
       "      <td>24.0</td>\n",
       "      <td>19-24 Years</td>\n",
       "      <td>Male</td>\n",
       "      <td>Urban</td>\n",
       "      <td>Under graduation</td>\n",
       "      <td>Not vaccinated</td>\n",
       "      <td>Easily accessible</td>\n",
       "      <td>Professional</td>\n",
       "      <td>₹37,493 - ₹74,999</td>\n",
       "      <td>11.0</td>\n",
       "    </tr>\n",
       "    <tr>\n",
       "      <th>4</th>\n",
       "      <td>5</td>\n",
       "      <td>0</td>\n",
       "      <td>0</td>\n",
       "      <td>1</td>\n",
       "      <td>1</td>\n",
       "      <td>2</td>\n",
       "      <td>2</td>\n",
       "      <td>2</td>\n",
       "      <td>0</td>\n",
       "      <td>15.0</td>\n",
       "      <td>24.0</td>\n",
       "      <td>15-19 Years</td>\n",
       "      <td>Female</td>\n",
       "      <td>Semi-Urban</td>\n",
       "      <td>Under graduation</td>\n",
       "      <td>Not vaccinated</td>\n",
       "      <td>Not interested</td>\n",
       "      <td>Skilled</td>\n",
       "      <td>Below ₹14,997</td>\n",
       "      <td>9.0</td>\n",
       "    </tr>\n",
       "  </tbody>\n",
       "</table>\n",
       "</div>"
      ],
      "text/plain": [
       "   Sno  Age  Gender  Place_of_Residency  Education  Vaccination_Status  \\\n",
       "0    1    1       1                   0          1                   2   \n",
       "1    2    0       0                   2          1                   1   \n",
       "2    3    0       1                   0          1                   1   \n",
       "3    4    1       1                   2          1                   2   \n",
       "4    5    0       0                   1          1                   2   \n",
       "\n",
       "   Health_Care_Access  Occupation_of_Parents  Family_Income_per_Month  \\\n",
       "0                   0                      0                        2   \n",
       "1                   2                      3                        0   \n",
       "2                   2                      2                        0   \n",
       "3                   0                      0                        3   \n",
       "4                   2                      2                        0   \n",
       "\n",
       "   pre_test_score  post_test_score    Age_Label Gender_Label  \\\n",
       "0            22.0             19.0  19-24 Years         Male   \n",
       "1             0.0             11.0  15-19 Years       Female   \n",
       "2            17.0             23.0  15-19 Years         Male   \n",
       "3            13.0             24.0  19-24 Years         Male   \n",
       "4            15.0             24.0  15-19 Years       Female   \n",
       "\n",
       "  Place_of_Residency_Label   Education_Label Vaccination_Status_Label  \\\n",
       "0                    Rural  Under graduation           Not vaccinated   \n",
       "1                    Urban  Under graduation     Regularly vaccinated   \n",
       "2                    Rural  Under graduation     Regularly vaccinated   \n",
       "3                    Urban  Under graduation           Not vaccinated   \n",
       "4               Semi-Urban  Under graduation           Not vaccinated   \n",
       "\n",
       "  Health_Care_Access_Label Occupation_of_Parents_Label  \\\n",
       "0        Easily accessible                Professional   \n",
       "1           Not interested                  Unemployed   \n",
       "2           Not interested                     Skilled   \n",
       "3        Easily accessible                Professional   \n",
       "4           Not interested                     Skilled   \n",
       "\n",
       "  Family_Income_per_Month_Label  score_improvement  \n",
       "0             ₹22,495 - ₹37,492               -3.0  \n",
       "1                 Below ₹14,997               11.0  \n",
       "2                 Below ₹14,997                6.0  \n",
       "3             ₹37,493 - ₹74,999               11.0  \n",
       "4                 Below ₹14,997                9.0  "
      ]
     },
     "metadata": {},
     "output_type": "display_data"
    }
   ],
   "source": [
    "# --- 4. Creating Human-Readable Label Columns ---\n",
    "# This makes visualizations much easier to interpret\n",
    "for column, mapping in demographic_maps.items():\n",
    "    df_final[f'{column}_Label'] = df_final[column].map(mapping)\n",
    "\n",
    "# Add a score improvement column for analysis\n",
    "df_final['score_improvement'] = df_final['post_test_score'] - df_final['pre_test_score']\n",
    "\n",
    "print(\"Dataframes cleaned, merged, and new label columns created.\")\n",
    "print(\"\\nFinal Data Head:\")\n",
    "display(df_final.head())"
   ]
  },
  {
   "cell_type": "code",
   "execution_count": 83,
   "id": "a0266866",
   "metadata": {},
   "outputs": [
    {
     "name": "stdout",
     "output_type": "stream",
     "text": [
      "\n",
      "Cleaned data saved successfully to '../data/processed_data/cleaned_hpv_data.csv'\n"
     ]
    }
   ],
   "source": [
    "# --- 5. Saving the Processed Data ---\n",
    "output_path = '../data/processed_data/cleaned_hpv_data.csv'\n",
    "df_final.to_csv(output_path, index=False)\n",
    "print(f\"\\nCleaned data saved successfully to '{output_path}'\")"
   ]
  }
 ],
 "metadata": {
  "kernelspec": {
   "display_name": "venv",
   "language": "python",
   "name": "python3"
  },
  "language_info": {
   "codemirror_mode": {
    "name": "ipython",
    "version": 3
   },
   "file_extension": ".py",
   "mimetype": "text/x-python",
   "name": "python",
   "nbconvert_exporter": "python",
   "pygments_lexer": "ipython3",
   "version": "3.11.2"
  }
 },
 "nbformat": 4,
 "nbformat_minor": 5
}
