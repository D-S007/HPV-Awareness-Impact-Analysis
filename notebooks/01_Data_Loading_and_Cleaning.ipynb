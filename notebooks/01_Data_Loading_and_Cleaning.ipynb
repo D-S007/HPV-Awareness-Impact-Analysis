{
 "cells": [
  {
   "cell_type": "markdown",
   "id": "ede31851",
   "metadata": {},
   "source": [
    "**Purpose**: To load the raw data, clean it, apply mappings, merge everything, and save a single, clean CSV file to be used by susequent notebooks."
   ]
  },
  {
   "cell_type": "markdown",
   "id": "88181d1a",
   "metadata": {},
   "source": [
    "# Section 1 : Data Ingestion and Sqlite setup"
   ]
  },
  {
   "cell_type": "code",
   "execution_count": 1,
   "id": "f4aed4b3",
   "metadata": {},
   "outputs": [],
   "source": [
    "import sys\n",
    "sys.path.append(\"/home/Davcote/Desktop/HPV-Awareness-Impact-Analysis/scripts\")\n",
    "import hpv_db_utils as hpv\n",
    "\n",
    "import pandas as pd"
   ]
  },
  {
   "cell_type": "markdown",
   "id": "7ba7db72",
   "metadata": {},
   "source": [
    "## Listing all Tables present inside our Database"
   ]
  },
  {
   "cell_type": "code",
   "execution_count": 2,
   "id": "60b9666d",
   "metadata": {},
   "outputs": [
    {
     "data": {
      "application/vnd.microsoft.datawrangler.viewer.v0+json": {
       "columns": [
        {
         "name": "index",
         "rawType": "int64",
         "type": "integer"
        },
        {
         "name": "name",
         "rawType": "object",
         "type": "string"
        }
       ],
       "ref": "f8a0760d-2f94-43b3-aac4-e81d9cd1a6f0",
       "rows": [
        [
         "0",
         "raw_data_PRE_TEST"
        ],
        [
         "1",
         "raw_data_HPV-KS"
        ],
        [
         "2",
         "raw_data_demographic_variables"
        ],
        [
         "3",
         "raw_data_1_DEMO_coded"
        ],
        [
         "4",
         "raw_data_1_HPV_CODED"
        ],
        [
         "5",
         "raw_data_POST_TEST"
        ],
        [
         "6",
         "raw_data_DEMO_2"
        ],
        [
         "7",
         "raw_data_coded_demo_2"
        ],
        [
         "8",
         "raw_data_HPV_KS_2"
        ],
        [
         "9",
         "raw_data_coded_hpv_2"
        ],
        [
         "10",
         "demographic"
        ],
        [
         "11",
         "pretest"
        ],
        [
         "12",
         "post_test"
        ]
       ],
       "shape": {
        "columns": 1,
        "rows": 13
       }
      },
      "text/html": [
       "<div>\n",
       "<style scoped>\n",
       "    .dataframe tbody tr th:only-of-type {\n",
       "        vertical-align: middle;\n",
       "    }\n",
       "\n",
       "    .dataframe tbody tr th {\n",
       "        vertical-align: top;\n",
       "    }\n",
       "\n",
       "    .dataframe thead th {\n",
       "        text-align: right;\n",
       "    }\n",
       "</style>\n",
       "<table border=\"1\" class=\"dataframe\">\n",
       "  <thead>\n",
       "    <tr style=\"text-align: right;\">\n",
       "      <th></th>\n",
       "      <th>name</th>\n",
       "    </tr>\n",
       "  </thead>\n",
       "  <tbody>\n",
       "    <tr>\n",
       "      <th>0</th>\n",
       "      <td>raw_data_PRE_TEST</td>\n",
       "    </tr>\n",
       "    <tr>\n",
       "      <th>1</th>\n",
       "      <td>raw_data_HPV-KS</td>\n",
       "    </tr>\n",
       "    <tr>\n",
       "      <th>2</th>\n",
       "      <td>raw_data_demographic_variables</td>\n",
       "    </tr>\n",
       "    <tr>\n",
       "      <th>3</th>\n",
       "      <td>raw_data_1_DEMO_coded</td>\n",
       "    </tr>\n",
       "    <tr>\n",
       "      <th>4</th>\n",
       "      <td>raw_data_1_HPV_CODED</td>\n",
       "    </tr>\n",
       "    <tr>\n",
       "      <th>5</th>\n",
       "      <td>raw_data_POST_TEST</td>\n",
       "    </tr>\n",
       "    <tr>\n",
       "      <th>6</th>\n",
       "      <td>raw_data_DEMO_2</td>\n",
       "    </tr>\n",
       "    <tr>\n",
       "      <th>7</th>\n",
       "      <td>raw_data_coded_demo_2</td>\n",
       "    </tr>\n",
       "    <tr>\n",
       "      <th>8</th>\n",
       "      <td>raw_data_HPV_KS_2</td>\n",
       "    </tr>\n",
       "    <tr>\n",
       "      <th>9</th>\n",
       "      <td>raw_data_coded_hpv_2</td>\n",
       "    </tr>\n",
       "    <tr>\n",
       "      <th>10</th>\n",
       "      <td>demographic</td>\n",
       "    </tr>\n",
       "    <tr>\n",
       "      <th>11</th>\n",
       "      <td>pretest</td>\n",
       "    </tr>\n",
       "    <tr>\n",
       "      <th>12</th>\n",
       "      <td>post_test</td>\n",
       "    </tr>\n",
       "  </tbody>\n",
       "</table>\n",
       "</div>"
      ],
      "text/plain": [
       "                              name\n",
       "0                raw_data_PRE_TEST\n",
       "1                  raw_data_HPV-KS\n",
       "2   raw_data_demographic_variables\n",
       "3            raw_data_1_DEMO_coded\n",
       "4             raw_data_1_HPV_CODED\n",
       "5               raw_data_POST_TEST\n",
       "6                  raw_data_DEMO_2\n",
       "7            raw_data_coded_demo_2\n",
       "8                raw_data_HPV_KS_2\n",
       "9             raw_data_coded_hpv_2\n",
       "10                     demographic\n",
       "11                         pretest\n",
       "12                       post_test"
      ]
     },
     "metadata": {},
     "output_type": "display_data"
    }
   ],
   "source": [
    "# List all tables in the DB to verify\n",
    "tables = hpv.run_sql(\"SELECT name FROM sqlite_master WHERE type='table';\")\n",
    "display(tables) #can use print(tables) as well for non-notebook environment"
   ]
  },
  {
   "cell_type": "code",
   "execution_count": 4,
   "id": "2dfc0fa6",
   "metadata": {},
   "outputs": [
    {
     "data": {
      "application/vnd.microsoft.datawrangler.viewer.v0+json": {
       "columns": [
        {
         "name": "index",
         "rawType": "int64",
         "type": "integer"
        },
        {
         "name": "Sno",
         "rawType": "int64",
         "type": "integer"
        },
        {
         "name": "1",
         "rawType": "int64",
         "type": "integer"
        },
        {
         "name": "2",
         "rawType": "int64",
         "type": "integer"
        },
        {
         "name": "3",
         "rawType": "int64",
         "type": "integer"
        },
        {
         "name": "4",
         "rawType": "int64",
         "type": "integer"
        },
        {
         "name": "5",
         "rawType": "int64",
         "type": "integer"
        },
        {
         "name": "6",
         "rawType": "int64",
         "type": "integer"
        },
        {
         "name": "7",
         "rawType": "int64",
         "type": "integer"
        },
        {
         "name": "8",
         "rawType": "int64",
         "type": "integer"
        }
       ],
       "ref": "56007c74-85f9-4f9d-b44e-cf76cf015608",
       "rows": [
        [
         "0",
         "1",
         "1",
         "1",
         "0",
         "1",
         "2",
         "0",
         "0",
         "2"
        ],
        [
         "1",
         "2",
         "0",
         "0",
         "2",
         "1",
         "1",
         "2",
         "3",
         "0"
        ],
        [
         "2",
         "3",
         "0",
         "1",
         "0",
         "1",
         "1",
         "2",
         "2",
         "0"
        ],
        [
         "3",
         "4",
         "1",
         "1",
         "2",
         "1",
         "2",
         "0",
         "0",
         "3"
        ],
        [
         "4",
         "5",
         "0",
         "0",
         "1",
         "1",
         "2",
         "2",
         "2",
         "0"
        ]
       ],
       "shape": {
        "columns": 9,
        "rows": 5
       }
      },
      "text/html": [
       "<div>\n",
       "<style scoped>\n",
       "    .dataframe tbody tr th:only-of-type {\n",
       "        vertical-align: middle;\n",
       "    }\n",
       "\n",
       "    .dataframe tbody tr th {\n",
       "        vertical-align: top;\n",
       "    }\n",
       "\n",
       "    .dataframe thead th {\n",
       "        text-align: right;\n",
       "    }\n",
       "</style>\n",
       "<table border=\"1\" class=\"dataframe\">\n",
       "  <thead>\n",
       "    <tr style=\"text-align: right;\">\n",
       "      <th></th>\n",
       "      <th>Sno</th>\n",
       "      <th>1</th>\n",
       "      <th>2</th>\n",
       "      <th>3</th>\n",
       "      <th>4</th>\n",
       "      <th>5</th>\n",
       "      <th>6</th>\n",
       "      <th>7</th>\n",
       "      <th>8</th>\n",
       "    </tr>\n",
       "  </thead>\n",
       "  <tbody>\n",
       "    <tr>\n",
       "      <th>0</th>\n",
       "      <td>1</td>\n",
       "      <td>1</td>\n",
       "      <td>1</td>\n",
       "      <td>0</td>\n",
       "      <td>1</td>\n",
       "      <td>2</td>\n",
       "      <td>0</td>\n",
       "      <td>0</td>\n",
       "      <td>2</td>\n",
       "    </tr>\n",
       "    <tr>\n",
       "      <th>1</th>\n",
       "      <td>2</td>\n",
       "      <td>0</td>\n",
       "      <td>0</td>\n",
       "      <td>2</td>\n",
       "      <td>1</td>\n",
       "      <td>1</td>\n",
       "      <td>2</td>\n",
       "      <td>3</td>\n",
       "      <td>0</td>\n",
       "    </tr>\n",
       "    <tr>\n",
       "      <th>2</th>\n",
       "      <td>3</td>\n",
       "      <td>0</td>\n",
       "      <td>1</td>\n",
       "      <td>0</td>\n",
       "      <td>1</td>\n",
       "      <td>1</td>\n",
       "      <td>2</td>\n",
       "      <td>2</td>\n",
       "      <td>0</td>\n",
       "    </tr>\n",
       "    <tr>\n",
       "      <th>3</th>\n",
       "      <td>4</td>\n",
       "      <td>1</td>\n",
       "      <td>1</td>\n",
       "      <td>2</td>\n",
       "      <td>1</td>\n",
       "      <td>2</td>\n",
       "      <td>0</td>\n",
       "      <td>0</td>\n",
       "      <td>3</td>\n",
       "    </tr>\n",
       "    <tr>\n",
       "      <th>4</th>\n",
       "      <td>5</td>\n",
       "      <td>0</td>\n",
       "      <td>0</td>\n",
       "      <td>1</td>\n",
       "      <td>1</td>\n",
       "      <td>2</td>\n",
       "      <td>2</td>\n",
       "      <td>2</td>\n",
       "      <td>0</td>\n",
       "    </tr>\n",
       "  </tbody>\n",
       "</table>\n",
       "</div>"
      ],
      "text/plain": [
       "   Sno  1  2  3  4  5  6  7  8\n",
       "0    1  1  1  0  1  2  0  0  2\n",
       "1    2  0  0  2  1  1  2  3  0\n",
       "2    3  0  1  0  1  1  2  2  0\n",
       "3    4  1  1  2  1  2  0  0  3\n",
       "4    5  0  0  1  1  2  2  2  0"
      ]
     },
     "metadata": {},
     "output_type": "display_data"
    }
   ],
   "source": [
    "# Assigning summary_data_demographic table to a dataframe and displaying first 5 rows\n",
    "df_demo = hpv.run_sql(\"SELECT * FROM 'demographic' LIMIT 5;\")\n",
    "display(df_demo)"
   ]
  },
  {
   "cell_type": "code",
   "execution_count": 3,
   "id": "9af293a8",
   "metadata": {},
   "outputs": [
    {
     "data": {
      "application/vnd.microsoft.datawrangler.viewer.v0+json": {
       "columns": [
        {
         "name": "index",
         "rawType": "int64",
         "type": "integer"
        },
        {
         "name": "Sno",
         "rawType": "int64",
         "type": "integer"
        },
        {
         "name": "1",
         "rawType": "int64",
         "type": "integer"
        },
        {
         "name": "2",
         "rawType": "int64",
         "type": "integer"
        },
        {
         "name": "3",
         "rawType": "int64",
         "type": "integer"
        },
        {
         "name": "4",
         "rawType": "int64",
         "type": "integer"
        },
        {
         "name": "5",
         "rawType": "int64",
         "type": "integer"
        },
        {
         "name": "6",
         "rawType": "int64",
         "type": "integer"
        },
        {
         "name": "7",
         "rawType": "int64",
         "type": "integer"
        },
        {
         "name": "8",
         "rawType": "int64",
         "type": "integer"
        },
        {
         "name": "9",
         "rawType": "int64",
         "type": "integer"
        },
        {
         "name": "10",
         "rawType": "int64",
         "type": "integer"
        },
        {
         "name": "11",
         "rawType": "int64",
         "type": "integer"
        },
        {
         "name": "12",
         "rawType": "int64",
         "type": "integer"
        },
        {
         "name": "13",
         "rawType": "int64",
         "type": "integer"
        },
        {
         "name": "14",
         "rawType": "int64",
         "type": "integer"
        },
        {
         "name": "15",
         "rawType": "int64",
         "type": "integer"
        },
        {
         "name": "16",
         "rawType": "int64",
         "type": "integer"
        },
        {
         "name": "17",
         "rawType": "int64",
         "type": "integer"
        },
        {
         "name": "18",
         "rawType": "int64",
         "type": "integer"
        },
        {
         "name": "19",
         "rawType": "int64",
         "type": "integer"
        },
        {
         "name": "20",
         "rawType": "int64",
         "type": "integer"
        },
        {
         "name": "21",
         "rawType": "int64",
         "type": "integer"
        },
        {
         "name": "22",
         "rawType": "int64",
         "type": "integer"
        },
        {
         "name": "23",
         "rawType": "int64",
         "type": "integer"
        },
        {
         "name": "24",
         "rawType": "int64",
         "type": "integer"
        },
        {
         "name": "25",
         "rawType": "int64",
         "type": "integer"
        },
        {
         "name": "26",
         "rawType": "int64",
         "type": "integer"
        },
        {
         "name": "27",
         "rawType": "int64",
         "type": "integer"
        },
        {
         "name": "28",
         "rawType": "int64",
         "type": "integer"
        },
        {
         "name": "29",
         "rawType": "int64",
         "type": "integer"
        },
        {
         "name": "30",
         "rawType": "int64",
         "type": "integer"
        },
        {
         "name": "31",
         "rawType": "int64",
         "type": "integer"
        },
        {
         "name": "32",
         "rawType": "int64",
         "type": "integer"
        },
        {
         "name": "33",
         "rawType": "int64",
         "type": "integer"
        },
        {
         "name": "Total_points",
         "rawType": "int64",
         "type": "integer"
        }
       ],
       "ref": "fafde4cc-af86-44b1-9f5f-b6fe233f1444",
       "rows": [
        [
         "0",
         "1",
         "1",
         "1",
         "1",
         "1",
         "1",
         "1",
         "1",
         "0",
         "0",
         "1",
         "1",
         "0",
         "1",
         "1",
         "0",
         "1",
         "0",
         "1",
         "1",
         "0",
         "0",
         "0",
         "1",
         "1",
         "0",
         "0",
         "1",
         "1",
         "1",
         "1",
         "0",
         "1",
         "1",
         "22"
        ],
        [
         "1",
         "2",
         "0",
         "0",
         "0",
         "0",
         "0",
         "0",
         "0",
         "0",
         "0",
         "0",
         "0",
         "0",
         "0",
         "0",
         "0",
         "0",
         "0",
         "0",
         "0",
         "0",
         "0",
         "0",
         "0",
         "0",
         "0",
         "0",
         "0",
         "0",
         "0",
         "0",
         "0",
         "0",
         "0",
         "0"
        ],
        [
         "2",
         "3",
         "1",
         "0",
         "1",
         "0",
         "1",
         "0",
         "1",
         "0",
         "1",
         "0",
         "1",
         "1",
         "1",
         "0",
         "1",
         "0",
         "0",
         "1",
         "1",
         "0",
         "1",
         "0",
         "0",
         "1",
         "0",
         "1",
         "1",
         "0",
         "1",
         "0",
         "0",
         "0",
         "1",
         "17"
        ],
        [
         "3",
         "4",
         "1",
         "1",
         "1",
         "0",
         "1",
         "0",
         "1",
         "0",
         "0",
         "0",
         "1",
         "1",
         "1",
         "1",
         "1",
         "1",
         "0",
         "0",
         "0",
         "0",
         "0",
         "0",
         "0",
         "1",
         "0",
         "0",
         "1",
         "0",
         "0",
         "0",
         "0",
         "0",
         "0",
         "13"
        ],
        [
         "4",
         "5",
         "1",
         "1",
         "0",
         "0",
         "1",
         "0",
         "0",
         "0",
         "0",
         "0",
         "1",
         "0",
         "1",
         "0",
         "1",
         "0",
         "0",
         "1",
         "0",
         "1",
         "0",
         "1",
         "0",
         "1",
         "1",
         "0",
         "1",
         "1",
         "0",
         "1",
         "0",
         "0",
         "1",
         "15"
        ]
       ],
       "shape": {
        "columns": 35,
        "rows": 5
       }
      },
      "text/html": [
       "<div>\n",
       "<style scoped>\n",
       "    .dataframe tbody tr th:only-of-type {\n",
       "        vertical-align: middle;\n",
       "    }\n",
       "\n",
       "    .dataframe tbody tr th {\n",
       "        vertical-align: top;\n",
       "    }\n",
       "\n",
       "    .dataframe thead th {\n",
       "        text-align: right;\n",
       "    }\n",
       "</style>\n",
       "<table border=\"1\" class=\"dataframe\">\n",
       "  <thead>\n",
       "    <tr style=\"text-align: right;\">\n",
       "      <th></th>\n",
       "      <th>Sno</th>\n",
       "      <th>1</th>\n",
       "      <th>2</th>\n",
       "      <th>3</th>\n",
       "      <th>4</th>\n",
       "      <th>5</th>\n",
       "      <th>6</th>\n",
       "      <th>7</th>\n",
       "      <th>8</th>\n",
       "      <th>9</th>\n",
       "      <th>...</th>\n",
       "      <th>25</th>\n",
       "      <th>26</th>\n",
       "      <th>27</th>\n",
       "      <th>28</th>\n",
       "      <th>29</th>\n",
       "      <th>30</th>\n",
       "      <th>31</th>\n",
       "      <th>32</th>\n",
       "      <th>33</th>\n",
       "      <th>Total_points</th>\n",
       "    </tr>\n",
       "  </thead>\n",
       "  <tbody>\n",
       "    <tr>\n",
       "      <th>0</th>\n",
       "      <td>1</td>\n",
       "      <td>1</td>\n",
       "      <td>1</td>\n",
       "      <td>1</td>\n",
       "      <td>1</td>\n",
       "      <td>1</td>\n",
       "      <td>1</td>\n",
       "      <td>1</td>\n",
       "      <td>0</td>\n",
       "      <td>0</td>\n",
       "      <td>...</td>\n",
       "      <td>0</td>\n",
       "      <td>0</td>\n",
       "      <td>1</td>\n",
       "      <td>1</td>\n",
       "      <td>1</td>\n",
       "      <td>1</td>\n",
       "      <td>0</td>\n",
       "      <td>1</td>\n",
       "      <td>1</td>\n",
       "      <td>22</td>\n",
       "    </tr>\n",
       "    <tr>\n",
       "      <th>1</th>\n",
       "      <td>2</td>\n",
       "      <td>0</td>\n",
       "      <td>0</td>\n",
       "      <td>0</td>\n",
       "      <td>0</td>\n",
       "      <td>0</td>\n",
       "      <td>0</td>\n",
       "      <td>0</td>\n",
       "      <td>0</td>\n",
       "      <td>0</td>\n",
       "      <td>...</td>\n",
       "      <td>0</td>\n",
       "      <td>0</td>\n",
       "      <td>0</td>\n",
       "      <td>0</td>\n",
       "      <td>0</td>\n",
       "      <td>0</td>\n",
       "      <td>0</td>\n",
       "      <td>0</td>\n",
       "      <td>0</td>\n",
       "      <td>0</td>\n",
       "    </tr>\n",
       "    <tr>\n",
       "      <th>2</th>\n",
       "      <td>3</td>\n",
       "      <td>1</td>\n",
       "      <td>0</td>\n",
       "      <td>1</td>\n",
       "      <td>0</td>\n",
       "      <td>1</td>\n",
       "      <td>0</td>\n",
       "      <td>1</td>\n",
       "      <td>0</td>\n",
       "      <td>1</td>\n",
       "      <td>...</td>\n",
       "      <td>0</td>\n",
       "      <td>1</td>\n",
       "      <td>1</td>\n",
       "      <td>0</td>\n",
       "      <td>1</td>\n",
       "      <td>0</td>\n",
       "      <td>0</td>\n",
       "      <td>0</td>\n",
       "      <td>1</td>\n",
       "      <td>17</td>\n",
       "    </tr>\n",
       "    <tr>\n",
       "      <th>3</th>\n",
       "      <td>4</td>\n",
       "      <td>1</td>\n",
       "      <td>1</td>\n",
       "      <td>1</td>\n",
       "      <td>0</td>\n",
       "      <td>1</td>\n",
       "      <td>0</td>\n",
       "      <td>1</td>\n",
       "      <td>0</td>\n",
       "      <td>0</td>\n",
       "      <td>...</td>\n",
       "      <td>0</td>\n",
       "      <td>0</td>\n",
       "      <td>1</td>\n",
       "      <td>0</td>\n",
       "      <td>0</td>\n",
       "      <td>0</td>\n",
       "      <td>0</td>\n",
       "      <td>0</td>\n",
       "      <td>0</td>\n",
       "      <td>13</td>\n",
       "    </tr>\n",
       "    <tr>\n",
       "      <th>4</th>\n",
       "      <td>5</td>\n",
       "      <td>1</td>\n",
       "      <td>1</td>\n",
       "      <td>0</td>\n",
       "      <td>0</td>\n",
       "      <td>1</td>\n",
       "      <td>0</td>\n",
       "      <td>0</td>\n",
       "      <td>0</td>\n",
       "      <td>0</td>\n",
       "      <td>...</td>\n",
       "      <td>1</td>\n",
       "      <td>0</td>\n",
       "      <td>1</td>\n",
       "      <td>1</td>\n",
       "      <td>0</td>\n",
       "      <td>1</td>\n",
       "      <td>0</td>\n",
       "      <td>0</td>\n",
       "      <td>1</td>\n",
       "      <td>15</td>\n",
       "    </tr>\n",
       "  </tbody>\n",
       "</table>\n",
       "<p>5 rows × 35 columns</p>\n",
       "</div>"
      ],
      "text/plain": [
       "   Sno  1  2  3  4  5  6  7  8  9  ...  25  26  27  28  29  30  31  32  33  \\\n",
       "0    1  1  1  1  1  1  1  1  0  0  ...   0   0   1   1   1   1   0   1   1   \n",
       "1    2  0  0  0  0  0  0  0  0  0  ...   0   0   0   0   0   0   0   0   0   \n",
       "2    3  1  0  1  0  1  0  1  0  1  ...   0   1   1   0   1   0   0   0   1   \n",
       "3    4  1  1  1  0  1  0  1  0  0  ...   0   0   1   0   0   0   0   0   0   \n",
       "4    5  1  1  0  0  1  0  0  0  0  ...   1   0   1   1   0   1   0   0   1   \n",
       "\n",
       "   Total_points  \n",
       "0            22  \n",
       "1             0  \n",
       "2            17  \n",
       "3            13  \n",
       "4            15  \n",
       "\n",
       "[5 rows x 35 columns]"
      ]
     },
     "metadata": {},
     "output_type": "display_data"
    }
   ],
   "source": [
    "# Assigning summary_data_pretest table to a dataframe and displaying first 5 rows\n",
    "df_pre = hpv.run_sql(\"SELECT * FROM 'pretest' LIMIT 5;\")\n",
    "display(df_pre)"
   ]
  },
  {
   "cell_type": "code",
   "execution_count": 17,
   "id": "7848dbea",
   "metadata": {},
   "outputs": [
    {
     "data": {
      "application/vnd.microsoft.datawrangler.viewer.v0+json": {
       "columns": [
        {
         "name": "index",
         "rawType": "int64",
         "type": "integer"
        },
        {
         "name": "Sno",
         "rawType": "int64",
         "type": "integer"
        },
        {
         "name": "1",
         "rawType": "int64",
         "type": "integer"
        },
        {
         "name": "2",
         "rawType": "int64",
         "type": "integer"
        },
        {
         "name": "3",
         "rawType": "int64",
         "type": "integer"
        },
        {
         "name": "4",
         "rawType": "int64",
         "type": "integer"
        },
        {
         "name": "5",
         "rawType": "int64",
         "type": "integer"
        },
        {
         "name": "6",
         "rawType": "int64",
         "type": "integer"
        },
        {
         "name": "7",
         "rawType": "int64",
         "type": "integer"
        },
        {
         "name": "8",
         "rawType": "int64",
         "type": "integer"
        },
        {
         "name": "9",
         "rawType": "int64",
         "type": "integer"
        },
        {
         "name": "10",
         "rawType": "int64",
         "type": "integer"
        },
        {
         "name": "11",
         "rawType": "int64",
         "type": "integer"
        },
        {
         "name": "12",
         "rawType": "int64",
         "type": "integer"
        },
        {
         "name": "13",
         "rawType": "int64",
         "type": "integer"
        },
        {
         "name": "14",
         "rawType": "int64",
         "type": "integer"
        },
        {
         "name": "15",
         "rawType": "int64",
         "type": "integer"
        },
        {
         "name": "16",
         "rawType": "int64",
         "type": "integer"
        },
        {
         "name": "17",
         "rawType": "int64",
         "type": "integer"
        },
        {
         "name": "18",
         "rawType": "int64",
         "type": "integer"
        },
        {
         "name": "19",
         "rawType": "int64",
         "type": "integer"
        },
        {
         "name": "20",
         "rawType": "int64",
         "type": "integer"
        },
        {
         "name": "21",
         "rawType": "int64",
         "type": "integer"
        },
        {
         "name": "22",
         "rawType": "int64",
         "type": "integer"
        },
        {
         "name": "23",
         "rawType": "int64",
         "type": "integer"
        },
        {
         "name": "24",
         "rawType": "int64",
         "type": "integer"
        },
        {
         "name": "25",
         "rawType": "int64",
         "type": "integer"
        },
        {
         "name": "26",
         "rawType": "int64",
         "type": "integer"
        },
        {
         "name": "27",
         "rawType": "int64",
         "type": "integer"
        },
        {
         "name": "28",
         "rawType": "int64",
         "type": "integer"
        },
        {
         "name": "29",
         "rawType": "int64",
         "type": "integer"
        },
        {
         "name": "30",
         "rawType": "int64",
         "type": "integer"
        },
        {
         "name": "31",
         "rawType": "int64",
         "type": "integer"
        },
        {
         "name": "32",
         "rawType": "int64",
         "type": "integer"
        },
        {
         "name": "33",
         "rawType": "int64",
         "type": "integer"
        },
        {
         "name": "Total",
         "rawType": "int64",
         "type": "integer"
        }
       ],
       "ref": "8d492996-5a0f-4893-9d49-34c27e4dca29",
       "rows": [
        [
         "0",
         "1",
         "1",
         "1",
         "1",
         "0",
         "1",
         "0",
         "1",
         "0",
         "1",
         "0",
         "1",
         "1",
         "1",
         "0",
         "1",
         "1",
         "0",
         "1",
         "0",
         "0",
         "0",
         "1",
         "0",
         "1",
         "0",
         "0",
         "1",
         "1",
         "1",
         "1",
         "0",
         "0",
         "1",
         "19"
        ],
        [
         "1",
         "2",
         "1",
         "1",
         "0",
         "0",
         "1",
         "1",
         "0",
         "0",
         "0",
         "0",
         "1",
         "0",
         "0",
         "1",
         "0",
         "1",
         "1",
         "0",
         "0",
         "0",
         "0",
         "1",
         "1",
         "0",
         "0",
         "0",
         "0",
         "0",
         "0",
         "0",
         "0",
         "1",
         "0",
         "11"
        ],
        [
         "2",
         "3",
         "1",
         "1",
         "1",
         "1",
         "1",
         "1",
         "1",
         "1",
         "1",
         "1",
         "0",
         "1",
         "0",
         "0",
         "1",
         "1",
         "1",
         "0",
         "1",
         "0",
         "1",
         "1",
         "1",
         "1",
         "0",
         "1",
         "1",
         "1",
         "0",
         "0",
         "1",
         "0",
         "0",
         "23"
        ],
        [
         "3",
         "4",
         "1",
         "1",
         "1",
         "1",
         "1",
         "1",
         "1",
         "0",
         "1",
         "1",
         "1",
         "1",
         "1",
         "1",
         "1",
         "0",
         "0",
         "1",
         "0",
         "0",
         "1",
         "1",
         "0",
         "1",
         "1",
         "1",
         "1",
         "1",
         "0",
         "1",
         "0",
         "0",
         "1",
         "24"
        ],
        [
         "4",
         "5",
         "1",
         "1",
         "1",
         "1",
         "1",
         "0",
         "1",
         "1",
         "1",
         "1",
         "1",
         "1",
         "1",
         "1",
         "1",
         "0",
         "0",
         "1",
         "0",
         "0",
         "1",
         "1",
         "0",
         "0",
         "0",
         "1",
         "1",
         "1",
         "1",
         "1",
         "1",
         "0",
         "1",
         "24"
        ]
       ],
       "shape": {
        "columns": 35,
        "rows": 5
       }
      },
      "text/html": [
       "<div>\n",
       "<style scoped>\n",
       "    .dataframe tbody tr th:only-of-type {\n",
       "        vertical-align: middle;\n",
       "    }\n",
       "\n",
       "    .dataframe tbody tr th {\n",
       "        vertical-align: top;\n",
       "    }\n",
       "\n",
       "    .dataframe thead th {\n",
       "        text-align: right;\n",
       "    }\n",
       "</style>\n",
       "<table border=\"1\" class=\"dataframe\">\n",
       "  <thead>\n",
       "    <tr style=\"text-align: right;\">\n",
       "      <th></th>\n",
       "      <th>Sno</th>\n",
       "      <th>1</th>\n",
       "      <th>2</th>\n",
       "      <th>3</th>\n",
       "      <th>4</th>\n",
       "      <th>5</th>\n",
       "      <th>6</th>\n",
       "      <th>7</th>\n",
       "      <th>8</th>\n",
       "      <th>9</th>\n",
       "      <th>...</th>\n",
       "      <th>25</th>\n",
       "      <th>26</th>\n",
       "      <th>27</th>\n",
       "      <th>28</th>\n",
       "      <th>29</th>\n",
       "      <th>30</th>\n",
       "      <th>31</th>\n",
       "      <th>32</th>\n",
       "      <th>33</th>\n",
       "      <th>Total</th>\n",
       "    </tr>\n",
       "  </thead>\n",
       "  <tbody>\n",
       "    <tr>\n",
       "      <th>0</th>\n",
       "      <td>1</td>\n",
       "      <td>1</td>\n",
       "      <td>1</td>\n",
       "      <td>1</td>\n",
       "      <td>0</td>\n",
       "      <td>1</td>\n",
       "      <td>0</td>\n",
       "      <td>1</td>\n",
       "      <td>0</td>\n",
       "      <td>1</td>\n",
       "      <td>...</td>\n",
       "      <td>0</td>\n",
       "      <td>0</td>\n",
       "      <td>1</td>\n",
       "      <td>1</td>\n",
       "      <td>1</td>\n",
       "      <td>1</td>\n",
       "      <td>0</td>\n",
       "      <td>0</td>\n",
       "      <td>1</td>\n",
       "      <td>19</td>\n",
       "    </tr>\n",
       "    <tr>\n",
       "      <th>1</th>\n",
       "      <td>2</td>\n",
       "      <td>1</td>\n",
       "      <td>1</td>\n",
       "      <td>0</td>\n",
       "      <td>0</td>\n",
       "      <td>1</td>\n",
       "      <td>1</td>\n",
       "      <td>0</td>\n",
       "      <td>0</td>\n",
       "      <td>0</td>\n",
       "      <td>...</td>\n",
       "      <td>0</td>\n",
       "      <td>0</td>\n",
       "      <td>0</td>\n",
       "      <td>0</td>\n",
       "      <td>0</td>\n",
       "      <td>0</td>\n",
       "      <td>0</td>\n",
       "      <td>1</td>\n",
       "      <td>0</td>\n",
       "      <td>11</td>\n",
       "    </tr>\n",
       "    <tr>\n",
       "      <th>2</th>\n",
       "      <td>3</td>\n",
       "      <td>1</td>\n",
       "      <td>1</td>\n",
       "      <td>1</td>\n",
       "      <td>1</td>\n",
       "      <td>1</td>\n",
       "      <td>1</td>\n",
       "      <td>1</td>\n",
       "      <td>1</td>\n",
       "      <td>1</td>\n",
       "      <td>...</td>\n",
       "      <td>0</td>\n",
       "      <td>1</td>\n",
       "      <td>1</td>\n",
       "      <td>1</td>\n",
       "      <td>0</td>\n",
       "      <td>0</td>\n",
       "      <td>1</td>\n",
       "      <td>0</td>\n",
       "      <td>0</td>\n",
       "      <td>23</td>\n",
       "    </tr>\n",
       "    <tr>\n",
       "      <th>3</th>\n",
       "      <td>4</td>\n",
       "      <td>1</td>\n",
       "      <td>1</td>\n",
       "      <td>1</td>\n",
       "      <td>1</td>\n",
       "      <td>1</td>\n",
       "      <td>1</td>\n",
       "      <td>1</td>\n",
       "      <td>0</td>\n",
       "      <td>1</td>\n",
       "      <td>...</td>\n",
       "      <td>1</td>\n",
       "      <td>1</td>\n",
       "      <td>1</td>\n",
       "      <td>1</td>\n",
       "      <td>0</td>\n",
       "      <td>1</td>\n",
       "      <td>0</td>\n",
       "      <td>0</td>\n",
       "      <td>1</td>\n",
       "      <td>24</td>\n",
       "    </tr>\n",
       "    <tr>\n",
       "      <th>4</th>\n",
       "      <td>5</td>\n",
       "      <td>1</td>\n",
       "      <td>1</td>\n",
       "      <td>1</td>\n",
       "      <td>1</td>\n",
       "      <td>1</td>\n",
       "      <td>0</td>\n",
       "      <td>1</td>\n",
       "      <td>1</td>\n",
       "      <td>1</td>\n",
       "      <td>...</td>\n",
       "      <td>0</td>\n",
       "      <td>1</td>\n",
       "      <td>1</td>\n",
       "      <td>1</td>\n",
       "      <td>1</td>\n",
       "      <td>1</td>\n",
       "      <td>1</td>\n",
       "      <td>0</td>\n",
       "      <td>1</td>\n",
       "      <td>24</td>\n",
       "    </tr>\n",
       "  </tbody>\n",
       "</table>\n",
       "<p>5 rows × 35 columns</p>\n",
       "</div>"
      ],
      "text/plain": [
       "   Sno  1  2  3  4  5  6  7  8  9  ...  25  26  27  28  29  30  31  32  33  \\\n",
       "0    1  1  1  1  0  1  0  1  0  1  ...   0   0   1   1   1   1   0   0   1   \n",
       "1    2  1  1  0  0  1  1  0  0  0  ...   0   0   0   0   0   0   0   1   0   \n",
       "2    3  1  1  1  1  1  1  1  1  1  ...   0   1   1   1   0   0   1   0   0   \n",
       "3    4  1  1  1  1  1  1  1  0  1  ...   1   1   1   1   0   1   0   0   1   \n",
       "4    5  1  1  1  1  1  0  1  1  1  ...   0   1   1   1   1   1   1   0   1   \n",
       "\n",
       "   Total  \n",
       "0     19  \n",
       "1     11  \n",
       "2     23  \n",
       "3     24  \n",
       "4     24  \n",
       "\n",
       "[5 rows x 35 columns]"
      ]
     },
     "metadata": {},
     "output_type": "display_data"
    }
   ],
   "source": [
    "# Assigning summary_data_posttest table to a dataframe and displaying first 5 rows\n",
    "df_post = hpv.run_sql(\"SELECT * FROM 'post_test' LIMIT 5;\")\n",
    "display(df_post)\n"
   ]
  },
  {
   "cell_type": "markdown",
   "id": "c1bbc638",
   "metadata": {},
   "source": [
    "Conclusion : All datasets are correctly ingested in DB"
   ]
  },
  {
   "cell_type": "markdown",
   "id": "5f03b301",
   "metadata": {},
   "source": [
    "# Section 2 : Data Cleaning and Preprocessing"
   ]
  },
  {
   "cell_type": "markdown",
   "id": "8992e0e2",
   "metadata": {},
   "source": [
    "## Step 1. Defining Mappings"
   ]
  },
  {
   "cell_type": "code",
   "execution_count": 5,
   "id": "0966b7e7",
   "metadata": {},
   "outputs": [],
   "source": [
    "# These mappings will be used to create human-readable columns for easier analysis later\n",
    "demographic_cols_map = {\n",
    "    '1': 'Age', \n",
    "    '2': 'Gender', \n",
    "    '3': 'Place_of_Residency', \n",
    "    '4': 'Education',\n",
    "    '5': 'Vaccination_Status', \n",
    "    '6': 'Health_Care_Access', \n",
    "    '7': 'Occupation_of_Parents',\n",
    "    '8': 'Family_Income_per_Month'\n",
    "}\n",
    "\n",
    "\n",
    "demographic_maps = {\n",
    "    'Age': {0: '15-19 Years', 1: '19-24 Years', 2: '24 Years and above'},\n",
    "    'Gender': {0: 'Female', 1: 'Male'},\n",
    "    'Place_of_Residency': {0: 'Rural', 1: 'Semi-Urban', 2: 'Urban'},\n",
    "    'Education': {0: 'High school', 1: 'Under graduation', 2: 'Post-graduation'},\n",
    "    'Vaccination_Status': {0: 'Irregularly vaccinated', 1: 'Regularly vaccinated', 2: 'Not vaccinated'},\n",
    "    'Health_Care_Access': {0: 'Easily accessible', 1: 'Not accessible', 2: 'Not interested'},\n",
    "    'Occupation_of_Parents': {0: 'Professional', 1: 'Retired', 2: 'Skilled', 3: 'Unemployed'},\n",
    "    'Family_Income_per_Month': {\n",
    "        0: 'Below ₹14,997', 1: '₹14,977 - ₹22,494', 2: '₹22,495 - ₹37,492',\n",
    "        3: '₹37,493 - ₹74,999', 4: '₹75,000 and above'\n",
    "    }\n",
    "}"
   ]
  },
  {
   "cell_type": "markdown",
   "id": "3bae22f5",
   "metadata": {},
   "source": [
    "## Step 2. Loading Full Data from DB"
   ]
  },
  {
   "cell_type": "code",
   "execution_count": 6,
   "id": "ad4dad24",
   "metadata": {},
   "outputs": [
    {
     "name": "stdout",
     "output_type": "stream",
     "text": [
      "Data fetched successfully from database tables.\n"
     ]
    }
   ],
   "source": [
    "# Loading full tables into DataFrames\n",
    "df_demo_full = pd.read_sql_query(\"SELECT * FROM demographic\", hpv.engine)\n",
    "df_pre_full = pd.read_sql_query(\"SELECT * FROM pretest\", hpv.engine)\n",
    "df_post_full = pd.read_sql_query(\"SELECT * FROM post_test\", hpv.engine)\n",
    "print(\"Data fetched successfully from database tables.\")"
   ]
  },
  {
   "cell_type": "markdown",
   "id": "2afcf254",
   "metadata": {},
   "source": [
    "## Step 3. Cleaning and Merging Data"
   ]
  },
  {
   "cell_type": "code",
   "execution_count": 7,
   "id": "f5f691d9",
   "metadata": {},
   "outputs": [
    {
     "name": "stdout",
     "output_type": "stream",
     "text": [
      "Dataframes merged successfully.\n"
     ]
    }
   ],
   "source": [
    "# Renaming columns for clarity\n",
    "df_demo_full = df_demo_full.rename(columns=demographic_cols_map)\n",
    "df_pre_full = df_pre_full.rename(columns={'Total_points': 'pre_test_score'})\n",
    "df_post_full = df_post_full.rename(columns={'Total': 'post_test_score'})\n",
    "\n",
    "# Merging the dataframes into a single master dataframe\n",
    "df_merged = pd.merge(df_demo_full, df_pre_full[['Sno', 'pre_test_score']], on='Sno')\n",
    "df_final = pd.merge(df_merged, df_post_full[['Sno', 'post_test_score']], on='Sno')\n",
    "print(\"Dataframes merged successfully.\")"
   ]
  },
  {
   "cell_type": "markdown",
   "id": "1a592d24",
   "metadata": {},
   "source": [
    "## Step 4. Creating Human-Readable Label Columns"
   ]
  },
  {
   "cell_type": "code",
   "execution_count": 8,
   "id": "7ba22288",
   "metadata": {},
   "outputs": [
    {
     "name": "stdout",
     "output_type": "stream",
     "text": [
      "Dataframes cleaned, merged, and new label columns created.\n",
      "\n",
      "Final Data Head:\n"
     ]
    },
    {
     "data": {
      "application/vnd.microsoft.datawrangler.viewer.v0+json": {
       "columns": [
        {
         "name": "index",
         "rawType": "int64",
         "type": "integer"
        },
        {
         "name": "Sno",
         "rawType": "int64",
         "type": "integer"
        },
        {
         "name": "Age",
         "rawType": "int64",
         "type": "integer"
        },
        {
         "name": "Gender",
         "rawType": "int64",
         "type": "integer"
        },
        {
         "name": "Place_of_Residency",
         "rawType": "int64",
         "type": "integer"
        },
        {
         "name": "Education",
         "rawType": "int64",
         "type": "integer"
        },
        {
         "name": "Vaccination_Status",
         "rawType": "int64",
         "type": "integer"
        },
        {
         "name": "Health_Care_Access",
         "rawType": "int64",
         "type": "integer"
        },
        {
         "name": "Occupation_of_Parents",
         "rawType": "int64",
         "type": "integer"
        },
        {
         "name": "Family_Income_per_Month",
         "rawType": "int64",
         "type": "integer"
        },
        {
         "name": "pre_test_score",
         "rawType": "int64",
         "type": "integer"
        },
        {
         "name": "post_test_score",
         "rawType": "int64",
         "type": "integer"
        },
        {
         "name": "Age_Label",
         "rawType": "object",
         "type": "string"
        },
        {
         "name": "Gender_Label",
         "rawType": "object",
         "type": "string"
        },
        {
         "name": "Place_of_Residency_Label",
         "rawType": "object",
         "type": "string"
        },
        {
         "name": "Education_Label",
         "rawType": "object",
         "type": "string"
        },
        {
         "name": "Vaccination_Status_Label",
         "rawType": "object",
         "type": "string"
        },
        {
         "name": "Health_Care_Access_Label",
         "rawType": "object",
         "type": "string"
        },
        {
         "name": "Occupation_of_Parents_Label",
         "rawType": "object",
         "type": "string"
        },
        {
         "name": "Family_Income_per_Month_Label",
         "rawType": "object",
         "type": "string"
        },
        {
         "name": "score_improvement",
         "rawType": "int64",
         "type": "integer"
        }
       ],
       "ref": "8c6a6d8b-44a8-4345-b559-fddc20dc6d72",
       "rows": [
        [
         "0",
         "1",
         "1",
         "1",
         "0",
         "1",
         "2",
         "0",
         "0",
         "2",
         "22",
         "19",
         "19-24 Years",
         "Male",
         "Rural",
         "Under graduation",
         "Not vaccinated",
         "Easily accessible",
         "Professional",
         "₹22,495 - ₹37,492",
         "-3"
        ],
        [
         "1",
         "2",
         "0",
         "0",
         "2",
         "1",
         "1",
         "2",
         "3",
         "0",
         "0",
         "11",
         "15-19 Years",
         "Female",
         "Urban",
         "Under graduation",
         "Regularly vaccinated",
         "Not interested",
         "Unemployed",
         "Below ₹14,997",
         "11"
        ],
        [
         "2",
         "3",
         "0",
         "1",
         "0",
         "1",
         "1",
         "2",
         "2",
         "0",
         "17",
         "23",
         "15-19 Years",
         "Male",
         "Rural",
         "Under graduation",
         "Regularly vaccinated",
         "Not interested",
         "Skilled",
         "Below ₹14,997",
         "6"
        ],
        [
         "3",
         "4",
         "1",
         "1",
         "2",
         "1",
         "2",
         "0",
         "0",
         "3",
         "13",
         "24",
         "19-24 Years",
         "Male",
         "Urban",
         "Under graduation",
         "Not vaccinated",
         "Easily accessible",
         "Professional",
         "₹37,493 - ₹74,999",
         "11"
        ],
        [
         "4",
         "5",
         "0",
         "0",
         "1",
         "1",
         "2",
         "2",
         "2",
         "0",
         "15",
         "24",
         "15-19 Years",
         "Female",
         "Semi-Urban",
         "Under graduation",
         "Not vaccinated",
         "Not interested",
         "Skilled",
         "Below ₹14,997",
         "9"
        ]
       ],
       "shape": {
        "columns": 20,
        "rows": 5
       }
      },
      "text/html": [
       "<div>\n",
       "<style scoped>\n",
       "    .dataframe tbody tr th:only-of-type {\n",
       "        vertical-align: middle;\n",
       "    }\n",
       "\n",
       "    .dataframe tbody tr th {\n",
       "        vertical-align: top;\n",
       "    }\n",
       "\n",
       "    .dataframe thead th {\n",
       "        text-align: right;\n",
       "    }\n",
       "</style>\n",
       "<table border=\"1\" class=\"dataframe\">\n",
       "  <thead>\n",
       "    <tr style=\"text-align: right;\">\n",
       "      <th></th>\n",
       "      <th>Sno</th>\n",
       "      <th>Age</th>\n",
       "      <th>Gender</th>\n",
       "      <th>Place_of_Residency</th>\n",
       "      <th>Education</th>\n",
       "      <th>Vaccination_Status</th>\n",
       "      <th>Health_Care_Access</th>\n",
       "      <th>Occupation_of_Parents</th>\n",
       "      <th>Family_Income_per_Month</th>\n",
       "      <th>pre_test_score</th>\n",
       "      <th>post_test_score</th>\n",
       "      <th>Age_Label</th>\n",
       "      <th>Gender_Label</th>\n",
       "      <th>Place_of_Residency_Label</th>\n",
       "      <th>Education_Label</th>\n",
       "      <th>Vaccination_Status_Label</th>\n",
       "      <th>Health_Care_Access_Label</th>\n",
       "      <th>Occupation_of_Parents_Label</th>\n",
       "      <th>Family_Income_per_Month_Label</th>\n",
       "      <th>score_improvement</th>\n",
       "    </tr>\n",
       "  </thead>\n",
       "  <tbody>\n",
       "    <tr>\n",
       "      <th>0</th>\n",
       "      <td>1</td>\n",
       "      <td>1</td>\n",
       "      <td>1</td>\n",
       "      <td>0</td>\n",
       "      <td>1</td>\n",
       "      <td>2</td>\n",
       "      <td>0</td>\n",
       "      <td>0</td>\n",
       "      <td>2</td>\n",
       "      <td>22</td>\n",
       "      <td>19</td>\n",
       "      <td>19-24 Years</td>\n",
       "      <td>Male</td>\n",
       "      <td>Rural</td>\n",
       "      <td>Under graduation</td>\n",
       "      <td>Not vaccinated</td>\n",
       "      <td>Easily accessible</td>\n",
       "      <td>Professional</td>\n",
       "      <td>₹22,495 - ₹37,492</td>\n",
       "      <td>-3</td>\n",
       "    </tr>\n",
       "    <tr>\n",
       "      <th>1</th>\n",
       "      <td>2</td>\n",
       "      <td>0</td>\n",
       "      <td>0</td>\n",
       "      <td>2</td>\n",
       "      <td>1</td>\n",
       "      <td>1</td>\n",
       "      <td>2</td>\n",
       "      <td>3</td>\n",
       "      <td>0</td>\n",
       "      <td>0</td>\n",
       "      <td>11</td>\n",
       "      <td>15-19 Years</td>\n",
       "      <td>Female</td>\n",
       "      <td>Urban</td>\n",
       "      <td>Under graduation</td>\n",
       "      <td>Regularly vaccinated</td>\n",
       "      <td>Not interested</td>\n",
       "      <td>Unemployed</td>\n",
       "      <td>Below ₹14,997</td>\n",
       "      <td>11</td>\n",
       "    </tr>\n",
       "    <tr>\n",
       "      <th>2</th>\n",
       "      <td>3</td>\n",
       "      <td>0</td>\n",
       "      <td>1</td>\n",
       "      <td>0</td>\n",
       "      <td>1</td>\n",
       "      <td>1</td>\n",
       "      <td>2</td>\n",
       "      <td>2</td>\n",
       "      <td>0</td>\n",
       "      <td>17</td>\n",
       "      <td>23</td>\n",
       "      <td>15-19 Years</td>\n",
       "      <td>Male</td>\n",
       "      <td>Rural</td>\n",
       "      <td>Under graduation</td>\n",
       "      <td>Regularly vaccinated</td>\n",
       "      <td>Not interested</td>\n",
       "      <td>Skilled</td>\n",
       "      <td>Below ₹14,997</td>\n",
       "      <td>6</td>\n",
       "    </tr>\n",
       "    <tr>\n",
       "      <th>3</th>\n",
       "      <td>4</td>\n",
       "      <td>1</td>\n",
       "      <td>1</td>\n",
       "      <td>2</td>\n",
       "      <td>1</td>\n",
       "      <td>2</td>\n",
       "      <td>0</td>\n",
       "      <td>0</td>\n",
       "      <td>3</td>\n",
       "      <td>13</td>\n",
       "      <td>24</td>\n",
       "      <td>19-24 Years</td>\n",
       "      <td>Male</td>\n",
       "      <td>Urban</td>\n",
       "      <td>Under graduation</td>\n",
       "      <td>Not vaccinated</td>\n",
       "      <td>Easily accessible</td>\n",
       "      <td>Professional</td>\n",
       "      <td>₹37,493 - ₹74,999</td>\n",
       "      <td>11</td>\n",
       "    </tr>\n",
       "    <tr>\n",
       "      <th>4</th>\n",
       "      <td>5</td>\n",
       "      <td>0</td>\n",
       "      <td>0</td>\n",
       "      <td>1</td>\n",
       "      <td>1</td>\n",
       "      <td>2</td>\n",
       "      <td>2</td>\n",
       "      <td>2</td>\n",
       "      <td>0</td>\n",
       "      <td>15</td>\n",
       "      <td>24</td>\n",
       "      <td>15-19 Years</td>\n",
       "      <td>Female</td>\n",
       "      <td>Semi-Urban</td>\n",
       "      <td>Under graduation</td>\n",
       "      <td>Not vaccinated</td>\n",
       "      <td>Not interested</td>\n",
       "      <td>Skilled</td>\n",
       "      <td>Below ₹14,997</td>\n",
       "      <td>9</td>\n",
       "    </tr>\n",
       "  </tbody>\n",
       "</table>\n",
       "</div>"
      ],
      "text/plain": [
       "   Sno  Age  Gender  Place_of_Residency  Education  Vaccination_Status  \\\n",
       "0    1    1       1                   0          1                   2   \n",
       "1    2    0       0                   2          1                   1   \n",
       "2    3    0       1                   0          1                   1   \n",
       "3    4    1       1                   2          1                   2   \n",
       "4    5    0       0                   1          1                   2   \n",
       "\n",
       "   Health_Care_Access  Occupation_of_Parents  Family_Income_per_Month  \\\n",
       "0                   0                      0                        2   \n",
       "1                   2                      3                        0   \n",
       "2                   2                      2                        0   \n",
       "3                   0                      0                        3   \n",
       "4                   2                      2                        0   \n",
       "\n",
       "   pre_test_score  post_test_score    Age_Label Gender_Label  \\\n",
       "0              22               19  19-24 Years         Male   \n",
       "1               0               11  15-19 Years       Female   \n",
       "2              17               23  15-19 Years         Male   \n",
       "3              13               24  19-24 Years         Male   \n",
       "4              15               24  15-19 Years       Female   \n",
       "\n",
       "  Place_of_Residency_Label   Education_Label Vaccination_Status_Label  \\\n",
       "0                    Rural  Under graduation           Not vaccinated   \n",
       "1                    Urban  Under graduation     Regularly vaccinated   \n",
       "2                    Rural  Under graduation     Regularly vaccinated   \n",
       "3                    Urban  Under graduation           Not vaccinated   \n",
       "4               Semi-Urban  Under graduation           Not vaccinated   \n",
       "\n",
       "  Health_Care_Access_Label Occupation_of_Parents_Label  \\\n",
       "0        Easily accessible                Professional   \n",
       "1           Not interested                  Unemployed   \n",
       "2           Not interested                     Skilled   \n",
       "3        Easily accessible                Professional   \n",
       "4           Not interested                     Skilled   \n",
       "\n",
       "  Family_Income_per_Month_Label  score_improvement  \n",
       "0             ₹22,495 - ₹37,492                 -3  \n",
       "1                 Below ₹14,997                 11  \n",
       "2                 Below ₹14,997                  6  \n",
       "3             ₹37,493 - ₹74,999                 11  \n",
       "4                 Below ₹14,997                  9  "
      ]
     },
     "metadata": {},
     "output_type": "display_data"
    }
   ],
   "source": [
    "# This makes visualizations much easier to interpret\n",
    "for column, mapping in demographic_maps.items():\n",
    "    df_final[f'{column}_Label'] = df_final[column].map(mapping)\n",
    "\n",
    "# Add a score improvement column for analysis\n",
    "df_final['score_improvement'] = df_final['post_test_score'] - df_final['pre_test_score']\n",
    "\n",
    "print(\"Dataframes cleaned, merged, and new label columns created.\")\n",
    "print(\"\\nFinal Data Head:\")\n",
    "display(df_final.head())"
   ]
  },
  {
   "cell_type": "markdown",
   "id": "1313103d",
   "metadata": {},
   "source": [
    "## Step 5. Saving the Processed Data"
   ]
  },
  {
   "cell_type": "code",
   "execution_count": 9,
   "id": "a0266866",
   "metadata": {},
   "outputs": [
    {
     "name": "stdout",
     "output_type": "stream",
     "text": [
      "\n",
      "Cleaned data saved successfully to '../data/processed_data/cleaned_hpv_data.csv'\n"
     ]
    }
   ],
   "source": [
    "output_path = '../data/processed_data/cleaned_hpv_data.csv'\n",
    "df_final.to_csv(output_path, index=False)\n",
    "print(f\"\\nCleaned data saved successfully to '{output_path}'\")"
   ]
  },
  {
   "cell_type": "code",
   "execution_count": null,
   "id": "067ffcbe",
   "metadata": {},
   "outputs": [],
   "source": []
  }
 ],
 "metadata": {
  "kernelspec": {
   "display_name": "venv",
   "language": "python",
   "name": "python3"
  },
  "language_info": {
   "codemirror_mode": {
    "name": "ipython",
    "version": 3
   },
   "file_extension": ".py",
   "mimetype": "text/x-python",
   "name": "python",
   "nbconvert_exporter": "python",
   "pygments_lexer": "ipython3",
   "version": "3.11.2"
  }
 },
 "nbformat": 4,
 "nbformat_minor": 5
}
