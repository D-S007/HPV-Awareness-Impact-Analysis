{
 "cells": [
  {
   "cell_type": "markdown",
   "id": "3d532cbe",
   "metadata": {},
   "source": [
    "## Section 1 : Importing Libraries"
   ]
  },
  {
   "cell_type": "code",
   "execution_count": 3,
   "id": "a7ef83e4",
   "metadata": {},
   "outputs": [],
   "source": [
    "import pickle\n",
    "import pandas as pd\n",
    "from docx import Document\n",
    "from docx.shared import Inches\n",
    "from pathlib import Path"
   ]
  },
  {
   "cell_type": "code",
   "execution_count": 4,
   "id": "2ddc13ea",
   "metadata": {},
   "outputs": [],
   "source": [
    "# --- Loading artifacts ---\n",
    "with open(\"../models/cleaned_hpv_data.pkl\", \"rb\") as f:\n",
    "    df = pickle.load(f)\n",
    "\n",
    "with open(\"../models/data_dictionary.pkl\", \"rb\") as f:\n",
    "    data_dict = pickle.load(f)\n",
    "\n",
    "with open(\"../models/eda_figures.pkl\", \"rb\") as f:\n",
    "    figures = pickle.load(f)\n",
    "\n",
    "with open(\"../models/stats_results.pkl\", \"rb\") as f:\n",
    "    stats_results = pickle.load(f)"
   ]
  },
  {
   "cell_type": "code",
   "execution_count": 5,
   "id": "f6332031",
   "metadata": {},
   "outputs": [],
   "source": [
    "# --- Setup paths ---\n",
    "FIG_DIR = Path(\"../reports/figures\")\n",
    "REPORT_DIR = Path(\"../reports/final\")\n",
    "REPORT_DIR.mkdir(parents=True, exist_ok=True)"
   ]
  },
  {
   "cell_type": "code",
   "execution_count": null,
   "id": "120b770a",
   "metadata": {},
   "outputs": [
    {
     "data": {
      "application/vnd.microsoft.datawrangler.viewer.v0+json": {
       "columns": [
        {
         "name": "index",
         "rawType": "int64",
         "type": "integer"
        },
        {
         "name": "Test",
         "rawType": "object",
         "type": "string"
        },
        {
         "name": "Statistic",
         "rawType": "float64",
         "type": "float"
        },
        {
         "name": "p-value",
         "rawType": "float64",
         "type": "float"
        },
        {
         "name": "Significance",
         "rawType": "object",
         "type": "string"
        }
       ],
       "ref": "644f5932-e460-4a62-babe-14bcecbb5cee",
       "rows": [
        [
         "0",
         "Shapiro (Pre)",
         "0.9525971103792176",
         "0.023973561651970537",
         "★"
        ],
        [
         "1",
         "Shapiro (Post)",
         "0.9876312800253122",
         "0.8192138296358704",
         "•"
        ],
        [
         "2",
         "Paired t-test",
         "6.994845092825878",
         "3.2453866658398402e-09",
         "★"
        ],
        [
         "3",
         "Wilcoxon",
         "151.0",
         "7.869147348549634e-08",
         "★"
        ],
        [
         "4",
         "ANOVA (Education)",
         "1.118130699934966",
         "0.33420608560611403",
         "•"
        ]
       ],
       "shape": {
        "columns": 4,
        "rows": 5
       }
      },
      "text/html": [
       "<div>\n",
       "<style scoped>\n",
       "    .dataframe tbody tr th:only-of-type {\n",
       "        vertical-align: middle;\n",
       "    }\n",
       "\n",
       "    .dataframe tbody tr th {\n",
       "        vertical-align: top;\n",
       "    }\n",
       "\n",
       "    .dataframe thead th {\n",
       "        text-align: right;\n",
       "    }\n",
       "</style>\n",
       "<table border=\"1\" class=\"dataframe\">\n",
       "  <thead>\n",
       "    <tr style=\"text-align: right;\">\n",
       "      <th></th>\n",
       "      <th>Test</th>\n",
       "      <th>Statistic</th>\n",
       "      <th>p-value</th>\n",
       "      <th>Significance</th>\n",
       "    </tr>\n",
       "  </thead>\n",
       "  <tbody>\n",
       "    <tr>\n",
       "      <th>0</th>\n",
       "      <td>Shapiro (Pre)</td>\n",
       "      <td>0.952597</td>\n",
       "      <td>2.397356e-02</td>\n",
       "      <td>★</td>\n",
       "    </tr>\n",
       "    <tr>\n",
       "      <th>1</th>\n",
       "      <td>Shapiro (Post)</td>\n",
       "      <td>0.987631</td>\n",
       "      <td>8.192138e-01</td>\n",
       "      <td>•</td>\n",
       "    </tr>\n",
       "    <tr>\n",
       "      <th>2</th>\n",
       "      <td>Paired t-test</td>\n",
       "      <td>6.994845</td>\n",
       "      <td>3.245387e-09</td>\n",
       "      <td>★</td>\n",
       "    </tr>\n",
       "    <tr>\n",
       "      <th>3</th>\n",
       "      <td>Wilcoxon</td>\n",
       "      <td>151.000000</td>\n",
       "      <td>7.869147e-08</td>\n",
       "      <td>★</td>\n",
       "    </tr>\n",
       "    <tr>\n",
       "      <th>4</th>\n",
       "      <td>ANOVA (Education)</td>\n",
       "      <td>1.118131</td>\n",
       "      <td>3.342061e-01</td>\n",
       "      <td>•</td>\n",
       "    </tr>\n",
       "  </tbody>\n",
       "</table>\n",
       "</div>"
      ],
      "text/plain": [
       "                Test   Statistic       p-value Significance\n",
       "0      Shapiro (Pre)    0.952597  2.397356e-02            ★\n",
       "1     Shapiro (Post)    0.987631  8.192138e-01            •\n",
       "2      Paired t-test    6.994845  3.245387e-09            ★\n",
       "3           Wilcoxon  151.000000  7.869147e-08            ★\n",
       "4  ANOVA (Education)    1.118131  3.342061e-01            •"
      ]
     },
     "metadata": {},
     "output_type": "display_data"
    },
    {
     "name": "stdout",
     "output_type": "stream",
     "text": [
      "Normality Checks:\n",
      "Pre-Test: W=0.953, p=0.024\n",
      "Post-Test: W=0.988, p=0.819\n",
      "Paired t-test: t=6.995, p=0.000\n",
      "Wilcoxon Signed-Rank: W=151.000, p=0.000\n",
      "Cohen's d: 1.28\n",
      "Statistical Power: 1.000\n",
      "ANOVA (Education): F=1.118, p=0.334, Bonferroni corrected p=1.000\n",
      "Cronbach's Alpha (Pre): 0.858\n",
      "Cronbach's Alpha (Post): 0.736\n",
      "Saved DOCX report: ../reports/final/HPV_Awareness_Impact_Report.docx\n"
     ]
    }
   ],
   "source": [
    "# --- Creating DOCX ---\n",
    "doc = Document()\n",
    "\n",
    "# Title\n",
    "doc.add_heading(\"HPV Awareness Impact Analysis\", 0)\n",
    "doc.add_paragraph(\"Problem Statement: An interventional study to assess the level \"\n",
    "                  \"of awareness among youth regarding Human Papillomavirus (HPV) \"\n",
    "                  \"and its vaccination in District Sitapur.\")\n",
    "\n",
    "# Objectives\n",
    "doc.add_heading(\"Objectives\", level=1)\n",
    "doc.add_paragraph(\"1. Assess levels of awareness regarding HPV and its consequences.\")\n",
    "doc.add_paragraph(\"2. Assess association between pre-test and post-test scores after teaching.\")\n",
    "doc.add_paragraph(\"3. Determine knowledge regarding availability, schedule, and benefits.\")\n",
    "\n",
    "# Data Cleaning\n",
    "doc.add_heading(\"Data Cleaning\", level=1)\n",
    "doc.add_paragraph(\"Raw demographic, pre-test, and post-test tables were ingested, \"\n",
    "                  \"cleaned, merged, and mapped to human-readable labels. \"\n",
    "                  \"Final dataset shape: {} rows × {} columns.\".format(*df.shape))\n",
    "\n",
    "# Data Dictionary\n",
    "doc.add_heading(\"Data Dictionary\", level=2)\n",
    "table = doc.add_table(rows=1, cols=2)\n",
    "hdr = table.rows[0].cells\n",
    "hdr[0].text = \"Variable\"\n",
    "hdr[1].text = \"Description\"\n",
    "for k,v in data_dict.items():\n",
    "    row = table.add_row().cells\n",
    "    row[0].text, row[1].text = k, v\n",
    "\n",
    "# EDA\n",
    "doc.add_heading(\"Exploratory Data Analysis\", level=1)\n",
    "doc.add_paragraph(\"We examined participant demographics and score distributions.\")\n",
    "\n",
    "for fig_name, file in [\n",
    "    (\"education_distribution\", \"education_distribution.png\"),\n",
    "    (\"residency_distribution\", \"residency_distribution.png\"),\n",
    "    (\"age_group_distribution\", \"age_group_distribution.png\"),\n",
    "    (\"gender_distribution\", \"gender_distribution.png\"),\n",
    "    (\"knowledge_score_distribution\", \"knowledge_score_distribution.png\"),\n",
    "    (\"score_improvement_education\", \"score_improvement_education.png\"),\n",
    "    (\"score_improvement_gender\", \"score_improvement_gender.png\"),\n",
    "    (\"score_improvement_residency\", \"score_improvement_residency.png\"),\n",
    "    (\"correlation_heatmap\", \"correlation_heatmap.png\"),\n",
    "]:\n",
    "    path = FIG_DIR / file\n",
    "    if path.exists():\n",
    "        doc.add_picture(str(path), width=Inches(5))\n",
    "        doc.add_paragraph(fig_name.replace(\"_\",\" \").title())\n",
    "\n",
    "# Statistical Analysis\n",
    "doc.add_heading(\"Statistical Analysis\", level=1)\n",
    "summary_table = stats_results[\"summary_table\"]\n",
    "\n",
    "t = doc.add_table(rows=1, cols=4)\n",
    "hdr = t.rows[0].cells\n",
    "hdr[0].text, hdr[1].text, hdr[2].text, hdr[3].text = \"Test\", \"Statistic\", \"p-value\", \"Significance\"\n",
    "for _, row in summary_table.iterrows():\n",
    "    r = t.add_row().cells\n",
    "    r[0].text = str(row[\"Test\"])\n",
    "    r[1].text = f\"{row['Statistic']:.3f}\"\n",
    "    r[2].text = f\"{row['p-value']:.3f}\"\n",
    "    r[3].text = row[\"Significance\"]\n",
    "\n",
    "doc.add_paragraph(f\"Cronbach's Alpha (Pre): {stats_results['cronbach']['alpha_pre']:.3f}\")\n",
    "doc.add_paragraph(f\"Cronbach's Alpha (Post): {stats_results['cronbach']['alpha_post']:.3f}\")\n",
    "doc.add_paragraph(f\"Cohen's d: {stats_results['paired_tests']['cohens_d']:.2f} \"\n",
    "                  f\"(large effect if >0.8)\")\n",
    "doc.add_paragraph(f\"Statistical Power: {stats_results['paired_tests']['power']:.3f}\")\n",
    "\n",
    "# Conclusions\n",
    "doc.add_heading(\"Conclusions & Insights\", level=1)\n",
    "doc.add_paragraph(\"• Intervention significantly improved knowledge (p<0.001, large effect size).\")\n",
    "doc.add_paragraph(\"• Improvement strongest among undergraduates and rural groups need additional support.\")\n",
    "doc.add_paragraph(\"• Reliability of survey instruments acceptable (Cronbach’s α > 0.7).\")\n",
    "doc.add_paragraph(\"• Low baseline participants benefited most, demographics had minimal influence.\")\n",
    "\n",
    "# Save DOCX\n",
    "docx_path = REPORT_DIR / \"HPV_Awareness_Impact_Report.docx\"\n",
    "doc.save(docx_path)\n",
    "print(f\"Saved DOCX report: {docx_path}\")\n"
   ]
  }
 ],
 "metadata": {
  "kernelspec": {
   "display_name": "myenv",
   "language": "python",
   "name": "python3"
  },
  "language_info": {
   "codemirror_mode": {
    "name": "ipython",
    "version": 3
   },
   "file_extension": ".py",
   "mimetype": "text/x-python",
   "name": "python",
   "nbconvert_exporter": "python",
   "pygments_lexer": "ipython3",
   "version": "3.11.2"
  }
 },
 "nbformat": 4,
 "nbformat_minor": 5
}
